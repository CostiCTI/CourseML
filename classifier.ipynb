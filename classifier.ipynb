{
 "cells": [
  {
   "cell_type": "code",
   "execution_count": 36,
   "id": "3fbb784d",
   "metadata": {},
   "outputs": [],
   "source": [
    "import random\n",
    "import pandas as pd\n",
    "\n",
    "from sklearn.model_selection import train_test_split\n",
    "from sklearn.feature_extraction.text import TfidfVectorizer\n",
    "from sklearn.linear_model import LogisticRegression\n",
    "from sklearn.metrics import accuracy_score, classification_report\n",
    "from sklearn.ensemble import RandomForestClassifier"
   ]
  },
  {
   "cell_type": "code",
   "execution_count": 2,
   "id": "fca3d413",
   "metadata": {},
   "outputs": [
    {
     "name": "stdout",
     "output_type": "stream",
     "text": [
      "50000\n"
     ]
    }
   ],
   "source": [
    "df = pd.read_csv(\"imdb_dataset.csv\")  # Update with actual filename\n",
    "print (len(df))"
   ]
  },
  {
   "cell_type": "code",
   "execution_count": 3,
   "id": "01600286",
   "metadata": {},
   "outputs": [
    {
     "data": {
      "text/html": [
       "<div>\n",
       "<style scoped>\n",
       "    .dataframe tbody tr th:only-of-type {\n",
       "        vertical-align: middle;\n",
       "    }\n",
       "\n",
       "    .dataframe tbody tr th {\n",
       "        vertical-align: top;\n",
       "    }\n",
       "\n",
       "    .dataframe thead th {\n",
       "        text-align: right;\n",
       "    }\n",
       "</style>\n",
       "<table border=\"1\" class=\"dataframe\">\n",
       "  <thead>\n",
       "    <tr style=\"text-align: right;\">\n",
       "      <th></th>\n",
       "      <th>review</th>\n",
       "      <th>sentiment</th>\n",
       "    </tr>\n",
       "  </thead>\n",
       "  <tbody>\n",
       "    <tr>\n",
       "      <th>0</th>\n",
       "      <td>One of the other reviewers has mentioned that ...</td>\n",
       "      <td>positive</td>\n",
       "    </tr>\n",
       "    <tr>\n",
       "      <th>1</th>\n",
       "      <td>A wonderful little production. &lt;br /&gt;&lt;br /&gt;The...</td>\n",
       "      <td>positive</td>\n",
       "    </tr>\n",
       "    <tr>\n",
       "      <th>2</th>\n",
       "      <td>I thought this was a wonderful way to spend ti...</td>\n",
       "      <td>positive</td>\n",
       "    </tr>\n",
       "    <tr>\n",
       "      <th>3</th>\n",
       "      <td>Basically there's a family where a little boy ...</td>\n",
       "      <td>negative</td>\n",
       "    </tr>\n",
       "    <tr>\n",
       "      <th>4</th>\n",
       "      <td>Petter Mattei's \"Love in the Time of Money\" is...</td>\n",
       "      <td>positive</td>\n",
       "    </tr>\n",
       "  </tbody>\n",
       "</table>\n",
       "</div>"
      ],
      "text/plain": [
       "                                              review sentiment\n",
       "0  One of the other reviewers has mentioned that ...  positive\n",
       "1  A wonderful little production. <br /><br />The...  positive\n",
       "2  I thought this was a wonderful way to spend ti...  positive\n",
       "3  Basically there's a family where a little boy ...  negative\n",
       "4  Petter Mattei's \"Love in the Time of Money\" is...  positive"
      ]
     },
     "execution_count": 3,
     "metadata": {},
     "output_type": "execute_result"
    }
   ],
   "source": [
    "df.head()"
   ]
  },
  {
   "cell_type": "code",
   "execution_count": 4,
   "id": "0b926cbd",
   "metadata": {},
   "outputs": [
    {
     "name": "stdout",
     "output_type": "stream",
     "text": [
      "review       0\n",
      "sentiment    0\n",
      "dtype: int64\n"
     ]
    }
   ],
   "source": [
    "print (df.isnull().sum())"
   ]
  },
  {
   "cell_type": "code",
   "execution_count": 38,
   "id": "0dbfcc6b",
   "metadata": {},
   "outputs": [],
   "source": [
    "reviews = list(df[\"review\"])\n",
    "sentiments = list(df[\"sentiment\"])"
   ]
  },
  {
   "cell_type": "code",
   "execution_count": 69,
   "id": "d62361f9",
   "metadata": {},
   "outputs": [
    {
     "name": "stdout",
     "output_type": "stream",
     "text": [
      "20000\n",
      "20000\n"
     ]
    }
   ],
   "source": [
    "positive_reviews = [r for r, s in zip(reviews, sentiments) if s == \"positive\"]\n",
    "negative_reviews = [r for r, s in zip(reviews, sentiments) if s == \"negative\"]\n",
    "\n",
    "pos_sample_size = int(0.40 * len(positive_reviews))\n",
    "neg_sample_size = int(0.40 * len(negative_reviews))\n",
    "\n",
    "sampled_positive = random.sample(positive_reviews, pos_sample_size)\n",
    "sampled_negative = random.sample(negative_reviews, neg_sample_size)\n",
    "\n",
    "balanced_reviews = sampled_positive + sampled_negative\n",
    "balanced_sentiments = [\"positive\"] * pos_sample_size + [\"negative\"] * neg_sample_size\n",
    "\n",
    "combined = list(zip(balanced_reviews, balanced_sentiments))\n",
    "random.shuffle(combined)\n",
    "balanced_reviews, balanced_sentiments = zip(*combined)\n",
    "\n",
    "balanced_reviews = list(balanced_reviews)\n",
    "balanced_sentiments = list(balanced_sentiments)\n",
    "\n",
    "print (len(balanced_reviews))\n",
    "print (len(balanced_sentiments))"
   ]
  },
  {
   "cell_type": "code",
   "execution_count": 70,
   "id": "0ed46351",
   "metadata": {},
   "outputs": [
    {
     "name": "stdout",
     "output_type": "stream",
     "text": [
      "10000 10000\n",
      "5000 5000\n",
      "5000 5000\n"
     ]
    }
   ],
   "source": [
    "X_train, X_temp, y_train, y_temp = train_test_split(balanced_reviews, balanced_sentiments, test_size=0.5, random_state=42)\n",
    "X_val, X_test, y_val, y_test = train_test_split(X_temp, y_temp, test_size=0.5, random_state=42)\n",
    "print (len(X_train), len(y_train))\n",
    "print (len(X_val), len(y_val))\n",
    "print (len(X_test), len(y_test))"
   ]
  },
  {
   "cell_type": "code",
   "execution_count": 71,
   "id": "3d7543be",
   "metadata": {},
   "outputs": [
    {
     "name": "stdout",
     "output_type": "stream",
     "text": [
      "52662\n"
     ]
    }
   ],
   "source": [
    "vectorizer = TfidfVectorizer(stop_words=\"english\")\n",
    "X_train_tfidf = vectorizer.fit_transform(X_train)\n",
    "print (len(vectorizer.vocabulary_))"
   ]
  },
  {
   "cell_type": "code",
   "execution_count": 105,
   "id": "c818c2ee",
   "metadata": {},
   "outputs": [
    {
     "name": "stdout",
     "output_type": "stream",
     "text": [
      "2963\n"
     ]
    }
   ],
   "source": [
    "vectorizer = TfidfVectorizer(stop_words=\"english\", max_df=0.95, min_df=0.005)\n",
    "X_train_tfidf = vectorizer.fit_transform(X_train)\n",
    "print (len(vectorizer.vocabulary_))"
   ]
  },
  {
   "cell_type": "code",
   "execution_count": 128,
   "id": "5fd474c0",
   "metadata": {},
   "outputs": [
    {
     "name": "stdout",
     "output_type": "stream",
     "text": [
      "3389\n"
     ]
    }
   ],
   "source": [
    "vectorizer = TfidfVectorizer(stop_words=\"english\", ngram_range=(1,2), max_df=0.95, min_df=0.005)\n",
    "X_train_tfidf = vectorizer.fit_transform(X_train, )\n",
    "print (len(vectorizer.vocabulary_))"
   ]
  },
  {
   "cell_type": "code",
   "execution_count": 73,
   "id": "04994aed",
   "metadata": {},
   "outputs": [
    {
     "name": "stdout",
     "output_type": "stream",
     "text": [
      "5000\n"
     ]
    }
   ],
   "source": [
    "vectorizer = TfidfVectorizer(stop_words=\"english\", max_features=5000)\n",
    "X_train_tfidf = vectorizer.fit_transform(X_train)\n",
    "print (len(vectorizer.vocabulary_))"
   ]
  },
  {
   "cell_type": "code",
   "execution_count": 74,
   "id": "706acaa9",
   "metadata": {},
   "outputs": [],
   "source": [
    "#vectorizer.vocabulary_"
   ]
  },
  {
   "cell_type": "code",
   "execution_count": 129,
   "id": "a835ed4d",
   "metadata": {},
   "outputs": [],
   "source": [
    "X_val_tfidf = vectorizer.transform(X_val)\n",
    "X_test_tfidf = vectorizer.transform(X_test)"
   ]
  },
  {
   "cell_type": "code",
   "execution_count": 130,
   "id": "46357ab3",
   "metadata": {},
   "outputs": [
    {
     "data": {
      "text/plain": [
       "<5000x3389 sparse matrix of type '<class 'numpy.float64'>'\n",
       "\twith 337397 stored elements in Compressed Sparse Row format>"
      ]
     },
     "execution_count": 130,
     "metadata": {},
     "output_type": "execute_result"
    }
   ],
   "source": [
    "X_val_tfidf"
   ]
  },
  {
   "cell_type": "code",
   "execution_count": 131,
   "id": "35e5a244",
   "metadata": {},
   "outputs": [],
   "source": [
    "#X_val_tfidf[9999].data"
   ]
  },
  {
   "cell_type": "code",
   "execution_count": 132,
   "id": "2d022183",
   "metadata": {},
   "outputs": [
    {
     "data": {
      "text/plain": [
       "LogisticRegression(C=1, class_weight='balanced', max_iter=150)"
      ]
     },
     "execution_count": 132,
     "metadata": {},
     "output_type": "execute_result"
    }
   ],
   "source": [
    "model = LogisticRegression(C=1, max_iter=150, class_weight='balanced')\n",
    "model.fit(X_train_tfidf, y_train)"
   ]
  },
  {
   "cell_type": "code",
   "execution_count": 133,
   "id": "8a215c3c",
   "metadata": {},
   "outputs": [
    {
     "name": "stdout",
     "output_type": "stream",
     "text": [
      "Trainn Accuracy: 0.9179\n"
     ]
    }
   ],
   "source": [
    "y_train_pred = model.predict(X_train_tfidf)\n",
    "val_accuracy = accuracy_score(y_train, y_train_pred)\n",
    "print(\"Trainn Accuracy:\", val_accuracy)"
   ]
  },
  {
   "cell_type": "code",
   "execution_count": 134,
   "id": "6da1f4de",
   "metadata": {},
   "outputs": [
    {
     "name": "stdout",
     "output_type": "stream",
     "text": [
      "Validation Accuracy: 0.8756\n"
     ]
    }
   ],
   "source": [
    "y_val_pred = model.predict(X_val_tfidf)\n",
    "val_accuracy = accuracy_score(y_val, y_val_pred)\n",
    "print(\"Validation Accuracy:\", val_accuracy)"
   ]
  },
  {
   "cell_type": "code",
   "execution_count": 135,
   "id": "bc17b5c3",
   "metadata": {},
   "outputs": [
    {
     "name": "stdout",
     "output_type": "stream",
     "text": [
      "Test Accuracy: 0.8716\n"
     ]
    }
   ],
   "source": [
    "y_test_pred = model.predict(X_test_tfidf)\n",
    "test_accuracy = accuracy_score(y_test, y_test_pred)\n",
    "print(\"Test Accuracy:\", test_accuracy)"
   ]
  },
  {
   "cell_type": "code",
   "execution_count": 136,
   "id": "fde59b6b",
   "metadata": {},
   "outputs": [
    {
     "data": {
      "text/plain": [
       "RandomForestClassifier(n_estimators=30)"
      ]
     },
     "execution_count": 136,
     "metadata": {},
     "output_type": "execute_result"
    }
   ],
   "source": [
    "model = RandomForestClassifier(n_estimators=30)\n",
    "model.fit(X_train_tfidf, y_train)"
   ]
  },
  {
   "cell_type": "code",
   "execution_count": 137,
   "id": "01dc18ed",
   "metadata": {},
   "outputs": [
    {
     "name": "stdout",
     "output_type": "stream",
     "text": [
      "Trainn Accuracy: 0.9998\n",
      "Validation Accuracy: 0.815\n",
      "Test Accuracy: 0.8176\n"
     ]
    }
   ],
   "source": [
    "y_train_pred = model.predict(X_train_tfidf)\n",
    "val_accuracy = accuracy_score(y_train, y_train_pred)\n",
    "print(\"Trainn Accuracy:\", val_accuracy)\n",
    "y_val_pred = model.predict(X_val_tfidf)\n",
    "val_accuracy = accuracy_score(y_val, y_val_pred)\n",
    "print(\"Validation Accuracy:\", val_accuracy)\n",
    "y_test_pred = model.predict(X_test_tfidf)\n",
    "test_accuracy = accuracy_score(y_test, y_test_pred)\n",
    "print(\"Test Accuracy:\", test_accuracy)"
   ]
  },
  {
   "cell_type": "code",
   "execution_count": 167,
   "id": "abe2503c",
   "metadata": {},
   "outputs": [
    {
     "data": {
      "text/plain": [
       "RandomForestClassifier(n_estimators=1)"
      ]
     },
     "execution_count": 167,
     "metadata": {},
     "output_type": "execute_result"
    }
   ],
   "source": [
    "model = RandomForestClassifier(n_estimators=1)\n",
    "model.fit(X_train_tfidf, y_train)"
   ]
  },
  {
   "cell_type": "code",
   "execution_count": 168,
   "id": "16070318",
   "metadata": {},
   "outputs": [
    {
     "name": "stdout",
     "output_type": "stream",
     "text": [
      "Trainn Accuracy: 0.8692\n",
      "Validation Accuracy: 0.6492\n",
      "Test Accuracy: 0.6588\n"
     ]
    }
   ],
   "source": [
    "y_train_pred = model.predict(X_train_tfidf)\n",
    "val_accuracy = accuracy_score(y_train, y_train_pred)\n",
    "print(\"Trainn Accuracy:\", val_accuracy)\n",
    "y_val_pred = model.predict(X_val_tfidf)\n",
    "val_accuracy = accuracy_score(y_val, y_val_pred)\n",
    "print(\"Validation Accuracy:\", val_accuracy)\n",
    "y_test_pred = model.predict(X_test_tfidf)\n",
    "test_accuracy = accuracy_score(y_test, y_test_pred)\n",
    "print(\"Test Accuracy:\", test_accuracy)"
   ]
  },
  {
   "cell_type": "code",
   "execution_count": null,
   "id": "5b005183",
   "metadata": {},
   "outputs": [],
   "source": []
  }
 ],
 "metadata": {
  "kernelspec": {
   "display_name": "Python 3 (ipykernel)",
   "language": "python",
   "name": "python3"
  },
  "language_info": {
   "codemirror_mode": {
    "name": "ipython",
    "version": 3
   },
   "file_extension": ".py",
   "mimetype": "text/x-python",
   "name": "python",
   "nbconvert_exporter": "python",
   "pygments_lexer": "ipython3",
   "version": "3.9.12"
  }
 },
 "nbformat": 4,
 "nbformat_minor": 5
}
