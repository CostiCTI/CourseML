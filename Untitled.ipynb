{
 "cells": [
  {
   "cell_type": "code",
   "execution_count": 1,
   "id": "cf1a8e96",
   "metadata": {},
   "outputs": [],
   "source": [
    "import numpy as np\n",
    "import pandas as pd\n",
    "\n",
    "from keras.preprocessing.text import Tokenizer\n",
    "from keras.utils import to_categorical\n",
    "from keras.models import Sequential\n",
    "from keras.layers import Dense\n",
    "from keras.layers import LSTM\n",
    "from keras.layers import Embedding, InputLayer"
   ]
  },
  {
   "cell_type": "code",
   "execution_count": 2,
   "id": "513bbc77",
   "metadata": {},
   "outputs": [],
   "source": [
    "data = open(\"Corpus.txt\", \"r\" ,encoding='utf-8').read()"
   ]
  },
  {
   "cell_type": "code",
   "execution_count": 3,
   "id": "4a0e350f",
   "metadata": {},
   "outputs": [
    {
     "data": {
      "text/plain": [
       "19173003"
      ]
     },
     "execution_count": 3,
     "metadata": {},
     "output_type": "execute_result"
    }
   ],
   "source": [
    "len(data)"
   ]
  },
  {
   "cell_type": "code",
   "execution_count": 7,
   "id": "6aff9cfb",
   "metadata": {},
   "outputs": [
    {
     "data": {
      "text/plain": [
       "'You enjoyed yourself in America\\nEh\\ndid you\\nOh I covered a nice trip yes\\nOh very good\\nsaw Mary and An'"
      ]
     },
     "execution_count": 7,
     "metadata": {},
     "output_type": "execute_result"
    }
   ],
   "source": [
    "data[0:100]"
   ]
  },
  {
   "cell_type": "code",
   "execution_count": 8,
   "id": "67d16a3c",
   "metadata": {},
   "outputs": [],
   "source": [
    "sdata = data.replace(\"\\n\", \".\" )"
   ]
  },
  {
   "cell_type": "code",
   "execution_count": 9,
   "id": "75960857",
   "metadata": {},
   "outputs": [
    {
     "data": {
      "text/plain": [
       "\"You enjoyed yourself in America.Eh.did you.Oh I covered a nice trip yes.Oh very good.saw Mary and Andrew and.Yes you did.in fact the whole family was together for Mary's wedding.Oh very nice very nice yes.It's horrible.It is horrible isn't.Have you been busy.Yes.Yes oh.Jim's been for a this afternoon at the H art and Straw Club.oh not very well we er m we stopped going after Christmas because we had bad chest s both of us.Oh.both cold and it's hard going that three hours in the morning you know.Yes.but we'll go back again.Well I've had to stop my classes.Yeah.because I'm I'm so busy.Yes.er among other things I'm writing a commentary on Romans in Sut wan a.Oh very good yes aha so er Jim's been very busy with his talks and different things and er we packed in you know after Christmas cos we both worked and we thought we'd have it you know and we caught this flu bug and.Mm.er anyway we're alright now so you know.Good.we shall go back er m after Easter.Yes.hoping permit ting you know if it\""
      ]
     },
     "execution_count": 9,
     "metadata": {},
     "output_type": "execute_result"
    }
   ],
   "source": [
    "sdata[:1000]"
   ]
  },
  {
   "cell_type": "code",
   "execution_count": 10,
   "id": "f8937d1f",
   "metadata": {},
   "outputs": [],
   "source": [
    "sdata = sdata.replace(\"?\", \".\" )\n",
    "sdata = sdata.replace(\"!\", \".\" )\n",
    "sdata = sdata.replace(\",\", \"\" )\n",
    "sdata = sdata.replace(\",\", \"\" )\n",
    "sdata = sdata.replace(\":\", \"\" )\n",
    "sdata = sdata.replace(\";\", \"\" )\n",
    "sdata = sdata.replace(\"“\", \"\" )\n",
    "sdata = sdata.replace(\"‘\", \"\" )\n",
    "sdata = sdata.replace(\"’ \", \" \" )"
   ]
  },
  {
   "cell_type": "code",
   "execution_count": null,
   "id": "559c5049",
   "metadata": {},
   "outputs": [],
   "source": []
  },
  {
   "cell_type": "code",
   "execution_count": 116,
   "id": "b3715f70",
   "metadata": {},
   "outputs": [
    {
     "name": "stdout",
     "output_type": "stream",
     "text": [
      "611747\n"
     ]
    }
   ],
   "source": [
    "props = sdata.split('.')\n",
    "print (len(props))"
   ]
  },
  {
   "cell_type": "code",
   "execution_count": 117,
   "id": "68772c72",
   "metadata": {},
   "outputs": [
    {
     "name": "stdout",
     "output_type": "stream",
     "text": [
      "You enjoyed yourself in America\n",
      "Eh\n",
      "did you\n",
      "Oh I covered a nice trip yes\n",
      "Oh very good\n",
      "saw Mary and Andrew and\n",
      "Yes you did\n",
      "in fact the whole family was together for Mary's wedding\n",
      "Oh very nice very nice yes\n",
      "It's horrible\n"
     ]
    }
   ],
   "source": [
    "for i in range(10):\n",
    "    print (props[i])"
   ]
  },
  {
   "cell_type": "code",
   "execution_count": 118,
   "id": "3ba23fde",
   "metadata": {},
   "outputs": [
    {
     "name": "stdout",
     "output_type": "stream",
     "text": [
      "25000\n"
     ]
    }
   ],
   "source": [
    "props = props[:25000]\n",
    "print (len(props))"
   ]
  },
  {
   "cell_type": "code",
   "execution_count": 119,
   "id": "ee9a6d8e",
   "metadata": {},
   "outputs": [
    {
     "name": "stdout",
     "output_type": "stream",
     "text": [
      "0\n",
      "494683\n"
     ]
    }
   ],
   "source": [
    "data = []\n",
    "cs = 0\n",
    "for pro in props:\n",
    "    prop = [\"starttoken\"] + pro.lower().split(' ')\n",
    "    if len(prop) >= 5:\n",
    "        for i in range(len(prop) - 4):\n",
    "            en0 = [prop[i], prop[i+1], prop[i+2], prop[i+3], prop[i+4]]\n",
    "            en1 = [prop[i], prop[i+1], prop[i+2], prop[i+3]]\n",
    "            en2 = [prop[i], prop[i+1], prop[i+2]]\n",
    "            en3 = [prop[i], prop[i+1]]\n",
    "            if '' in en0:\n",
    "                pass\n",
    "            else:\n",
    "                data.append(en0)\n",
    "            if '' in en1:\n",
    "                pass\n",
    "            else:\n",
    "                data.append(en1)\n",
    "            if '' in en2:\n",
    "                pass\n",
    "            else:\n",
    "                data.append(en2)\n",
    "            if '' in en3:\n",
    "                pass\n",
    "            else:\n",
    "                data.append(en3)\n",
    "    elif len(prop) == 4:\n",
    "        en1 = [prop[0], prop[1], prop[2], prop[3]]\n",
    "        en2 = [prop[0], prop[1], prop[2]]\n",
    "        en3 = [prop[0], prop[1]]\n",
    "        if '' in en1:\n",
    "            pass\n",
    "        else:\n",
    "            data.append(en1)\n",
    "        if '' in en2:\n",
    "            pass\n",
    "        else:\n",
    "            data.append(en2)\n",
    "        if '' in en3:\n",
    "            pass\n",
    "        else:\n",
    "            data.append(en3)\n",
    "    elif len(prop) == 3:\n",
    "        en2 = [prop[0], prop[1], prop[2]]\n",
    "        en3 = [prop[0], prop[1]]\n",
    "        if '' in en2:\n",
    "            pass\n",
    "        else:\n",
    "            data.append(en2)\n",
    "        if '' in en3:\n",
    "            pass\n",
    "        else:\n",
    "            data.append(en3)\n",
    "    elif len(prop) == 2:\n",
    "        en3 = [prop[0], prop[1]]\n",
    "        if '' in en3:\n",
    "            pass\n",
    "        else:\n",
    "            data.append(en3)\n",
    "    else:\n",
    "        cs += 1\n",
    "print (cs)\n",
    "print (len(data))"
   ]
  },
  {
   "cell_type": "code",
   "execution_count": 120,
   "id": "d08d3b13",
   "metadata": {},
   "outputs": [],
   "source": [
    "tokenizer = Tokenizer(num_words=3200, oov_token='unktoken')\n",
    "tokenizer.fit_on_texts(data)"
   ]
  },
  {
   "cell_type": "code",
   "execution_count": 121,
   "id": "10bf318c",
   "metadata": {},
   "outputs": [
    {
     "data": {
      "text/plain": [
       "6989"
      ]
     },
     "execution_count": 121,
     "metadata": {},
     "output_type": "execute_result"
    }
   ],
   "source": [
    "len(tokenizer.index_word)"
   ]
  },
  {
   "cell_type": "code",
   "execution_count": 122,
   "id": "0ae5d3e2",
   "metadata": {},
   "outputs": [],
   "source": [
    "NO_WORDS = 3200"
   ]
  },
  {
   "cell_type": "code",
   "execution_count": 123,
   "id": "390a6b5e",
   "metadata": {},
   "outputs": [
    {
     "name": "stdout",
     "output_type": "stream",
     "text": [
      "3200\n"
     ]
    }
   ],
   "source": [
    "oftenit = []\n",
    "for k, v in tokenizer.index_word.items():\n",
    "    if k <= NO_WORDS:\n",
    "        oftenit.append(v)\n",
    "print (len(oftenit))"
   ]
  },
  {
   "cell_type": "code",
   "execution_count": 124,
   "id": "3e7ff849",
   "metadata": {},
   "outputs": [
    {
     "data": {
      "text/plain": [
       "3200"
      ]
     },
     "execution_count": 124,
     "metadata": {},
     "output_type": "execute_result"
    }
   ],
   "source": [
    "len(oftenit)"
   ]
  },
  {
   "cell_type": "code",
   "execution_count": 125,
   "id": "f052233a",
   "metadata": {},
   "outputs": [],
   "source": [
    "#tokenizer.index_word"
   ]
  },
  {
   "cell_type": "code",
   "execution_count": 126,
   "id": "1f4ab964",
   "metadata": {},
   "outputs": [],
   "source": [
    "import random\n",
    "\n",
    "random.shuffle(data)"
   ]
  },
  {
   "cell_type": "code",
   "execution_count": 127,
   "id": "9c3c42e0",
   "metadata": {},
   "outputs": [
    {
     "data": {
      "text/plain": [
       "['go', 'through', 'the', 'questions', 'for']"
      ]
     },
     "execution_count": 127,
     "metadata": {},
     "output_type": "execute_result"
    }
   ],
   "source": [
    "data[10]"
   ]
  },
  {
   "cell_type": "code",
   "execution_count": 128,
   "id": "fa6e5c30",
   "metadata": {},
   "outputs": [],
   "source": [
    "sequences = tokenizer.texts_to_sequences(data)"
   ]
  },
  {
   "cell_type": "code",
   "execution_count": 129,
   "id": "7b73a200",
   "metadata": {},
   "outputs": [
    {
     "data": {
      "text/plain": [
       "[57, 191, 4, 512, 26]"
      ]
     },
     "execution_count": 129,
     "metadata": {},
     "output_type": "execute_result"
    }
   ],
   "source": [
    "sequences[10]"
   ]
  },
  {
   "cell_type": "code",
   "execution_count": 130,
   "id": "04391762",
   "metadata": {},
   "outputs": [
    {
     "data": {
      "text/plain": [
       "[6, 62]"
      ]
     },
     "execution_count": 130,
     "metadata": {},
     "output_type": "execute_result"
    }
   ],
   "source": [
    "sequences[124]"
   ]
  },
  {
   "cell_type": "code",
   "execution_count": 131,
   "id": "b714d14c",
   "metadata": {},
   "outputs": [],
   "source": [
    "from tensorflow.keras.preprocessing.sequence import pad_sequences\n",
    "import tensorflow as tf\n",
    "\n",
    "padded = pad_sequences(sequences, padding='pre')"
   ]
  },
  {
   "cell_type": "code",
   "execution_count": 132,
   "id": "a5071eb4",
   "metadata": {},
   "outputs": [
    {
     "data": {
      "text/plain": [
       "array([ 0,  0,  0,  6, 62])"
      ]
     },
     "execution_count": 132,
     "metadata": {},
     "output_type": "execute_result"
    }
   ],
   "source": [
    "padded[124]"
   ]
  },
  {
   "cell_type": "code",
   "execution_count": 133,
   "id": "254cede6",
   "metadata": {},
   "outputs": [
    {
     "name": "stdout",
     "output_type": "stream",
     "text": [
      "[   0    0    5   18 1356]\n",
      "[   0    0    0    1 2652]\n",
      "[ 0  0  0  6 62]\n"
     ]
    }
   ],
   "source": [
    "print (padded[32])\n",
    "print (padded[100])\n",
    "print (padded[124])"
   ]
  },
  {
   "cell_type": "code",
   "execution_count": 134,
   "id": "6b9cb909",
   "metadata": {},
   "outputs": [
    {
     "data": {
      "text/plain": [
       "494683"
      ]
     },
     "execution_count": 134,
     "metadata": {},
     "output_type": "execute_result"
    }
   ],
   "source": [
    "len(data)"
   ]
  },
  {
   "cell_type": "code",
   "execution_count": 135,
   "id": "13766af9",
   "metadata": {},
   "outputs": [
    {
     "data": {
      "text/plain": [
       "494683"
      ]
     },
     "execution_count": 135,
     "metadata": {},
     "output_type": "execute_result"
    }
   ],
   "source": [
    "len(padded)"
   ]
  },
  {
   "cell_type": "code",
   "execution_count": 136,
   "id": "847fce8d",
   "metadata": {},
   "outputs": [],
   "source": [
    "X, y = padded[:,:-1], padded[:,-1]\n",
    "y = to_categorical(y, num_classes=NO_WORDS + 1)"
   ]
  },
  {
   "cell_type": "code",
   "execution_count": 144,
   "id": "309ddac7",
   "metadata": {},
   "outputs": [
    {
     "name": "stdout",
     "output_type": "stream",
     "text": [
      "(400000, 4)\n",
      "(400000, 3201)\n",
      "(94683, 4)\n",
      "(94683, 3201)\n"
     ]
    }
   ],
   "source": [
    "from sklearn.model_selection import train_test_split\n",
    "X_train = X[:400000]\n",
    "X_test = X[400000:]\n",
    "y_train = y[:400000]\n",
    "y_test = y[400000:]\n",
    "print (X_train.shape)\n",
    "print (y_train.shape)\n",
    "print (X_test.shape)\n",
    "print (y_test.shape)"
   ]
  },
  {
   "cell_type": "code",
   "execution_count": 145,
   "id": "c6d6c9e8",
   "metadata": {},
   "outputs": [
    {
     "name": "stdout",
     "output_type": "stream",
     "text": [
      "Model: \"sequential_4\"\n",
      "_________________________________________________________________\n",
      " Layer (type)                Output Shape              Param #   \n",
      "=================================================================\n",
      " embedding_4 (Embedding)     (None, 4, 24)             76824     \n",
      "                                                                 \n",
      " lstm_7 (LSTM)               (None, 64)                22784     \n",
      "                                                                 \n",
      " dense_4 (Dense)             (None, 3201)              208065    \n",
      "                                                                 \n",
      "=================================================================\n",
      "Total params: 307,673\n",
      "Trainable params: 307,673\n",
      "Non-trainable params: 0\n",
      "_________________________________________________________________\n",
      "None\n"
     ]
    }
   ],
   "source": [
    "model = Sequential()\n",
    "model.add(InputLayer(input_shape=(4, ), dtype=np.int32))\n",
    "model.add(Embedding(NO_WORDS + 1, 24, input_length=4))\n",
    "#model.add(LSTM(64, return_sequences=True))\n",
    "model.add(LSTM(64))\n",
    "model.add(Dense(NO_WORDS + 1, activation='softmax'))\n",
    "print(model.summary())"
   ]
  },
  {
   "cell_type": "code",
   "execution_count": 146,
   "id": "fb09ba09",
   "metadata": {},
   "outputs": [],
   "source": [
    "model.compile(loss='categorical_crossentropy', optimizer='adam', metrics=['accuracy'])"
   ]
  },
  {
   "cell_type": "code",
   "execution_count": 147,
   "id": "f11cd06d",
   "metadata": {
    "scrolled": true
   },
   "outputs": [
    {
     "name": "stdout",
     "output_type": "stream",
     "text": [
      "Epoch 1/4\n",
      "3125/3125 [==============================] - 46s 14ms/step - loss: 5.8649 - accuracy: 0.0514 - val_loss: 5.4933 - val_accuracy: 0.0842\n",
      "Epoch 2/4\n",
      "3125/3125 [==============================] - 42s 13ms/step - loss: 5.3092 - accuracy: 0.1028 - val_loss: 5.1753 - val_accuracy: 0.1152\n",
      "Epoch 3/4\n",
      "3125/3125 [==============================] - 50s 16ms/step - loss: 5.0478 - accuracy: 0.1241 - val_loss: 4.9925 - val_accuracy: 0.1292\n",
      "Epoch 4/4\n",
      "3125/3125 [==============================] - 47s 15ms/step - loss: 4.8840 - accuracy: 0.1364 - val_loss: 4.8734 - val_accuracy: 0.1380\n"
     ]
    },
    {
     "data": {
      "text/plain": [
       "<keras.callbacks.History at 0x2a9407068b0>"
      ]
     },
     "execution_count": 147,
     "metadata": {},
     "output_type": "execute_result"
    }
   ],
   "source": [
    "model.fit(X_train, y_train, batch_size=128, epochs=4, validation_data=(X_test, y_test))"
   ]
  },
  {
   "cell_type": "code",
   "execution_count": 148,
   "id": "1fd2583b",
   "metadata": {},
   "outputs": [
    {
     "name": "stdout",
     "output_type": "stream",
     "text": [
      "2959/2959 [==============================] - 17s 4ms/step\n"
     ]
    }
   ],
   "source": [
    "preds = model.predict(X_test)"
   ]
  },
  {
   "cell_type": "code",
   "execution_count": 153,
   "id": "4b4035e9",
   "metadata": {},
   "outputs": [],
   "source": [
    "reverse_word_map = dict(map(reversed, tokenizer.word_index.items()))\n",
    "results = []\n",
    "wordsr = []\n",
    "for pred in preds:\n",
    "    ar = pred.argsort()[-5:][::-1]\n",
    "    results.append([ar[0], ar[1], ar[2], ar[3], ar[4]])\n",
    "    wordsr.append([reverse_word_map[ar[0]], reverse_word_map[ar[1]], reverse_word_map[ar[2]], reverse_word_map[ar[3]], reverse_word_map[ar[4]]])"
   ]
  },
  {
   "cell_type": "code",
   "execution_count": 154,
   "id": "c9062c0e",
   "metadata": {},
   "outputs": [],
   "source": [
    "testy = [np.argmax(x) for x in y_test]"
   ]
  },
  {
   "cell_type": "code",
   "execution_count": 155,
   "id": "1ab4bca7",
   "metadata": {},
   "outputs": [
    {
     "data": {
      "text/plain": [
       "94683"
      ]
     },
     "execution_count": 155,
     "metadata": {},
     "output_type": "execute_result"
    }
   ],
   "source": [
    "len(testy)"
   ]
  },
  {
   "cell_type": "code",
   "execution_count": 156,
   "id": "ef3c90bb",
   "metadata": {},
   "outputs": [
    {
     "name": "stdout",
     "output_type": "stream",
     "text": [
      "R1: 0.13800787892229863\n",
      "R2: 0.24997095571538713\n",
      "R3: 0.3187795063527772\n"
     ]
    }
   ],
   "source": [
    "acc1 = 0\n",
    "acc2 = 0\n",
    "acc3 = 0\n",
    "for i in range(len(results)):\n",
    "    if results[i][0] == testy[i]:\n",
    "        acc1 += 1\n",
    "    if testy[i] in results[i][:3]:\n",
    "        acc2 += 1\n",
    "    if testy[i] in results[i]:\n",
    "        acc3 += 1\n",
    "print ('R1:', acc1 / len(testy))\n",
    "print ('R2:', acc2 / len(testy))\n",
    "print ('R3:', acc3 / len(testy))"
   ]
  },
  {
   "cell_type": "code",
   "execution_count": null,
   "id": "f8b6fc71",
   "metadata": {},
   "outputs": [],
   "source": []
  },
  {
   "cell_type": "code",
   "execution_count": 192,
   "id": "19afd0d1",
   "metadata": {},
   "outputs": [],
   "source": [
    "example = \"starttoken hello how are\""
   ]
  },
  {
   "cell_type": "code",
   "execution_count": 193,
   "id": "a1418eb3",
   "metadata": {},
   "outputs": [
    {
     "name": "stdout",
     "output_type": "stream",
     "text": [
      "[[2, 1006, 93, 59]]\n"
     ]
    }
   ],
   "source": [
    "example_seq = tokenizer.texts_to_sequences([example])\n",
    "print (example_seq)"
   ]
  },
  {
   "cell_type": "code",
   "execution_count": 194,
   "id": "ba77f548",
   "metadata": {},
   "outputs": [
    {
     "name": "stdout",
     "output_type": "stream",
     "text": [
      "[[   2 1006   93   59]]\n"
     ]
    }
   ],
   "source": [
    "example_padded = pad_sequences(example_seq, padding='pre')\n",
    "print (example_padded)"
   ]
  },
  {
   "cell_type": "code",
   "execution_count": 195,
   "id": "2d3fc237",
   "metadata": {},
   "outputs": [
    {
     "name": "stdout",
     "output_type": "stream",
     "text": [
      "1/1 [==============================] - 0s 16ms/step\n"
     ]
    }
   ],
   "source": [
    "pred = model.predict(example_padded)[0]"
   ]
  },
  {
   "cell_type": "code",
   "execution_count": 196,
   "id": "ada1d651",
   "metadata": {},
   "outputs": [],
   "source": [
    "ar = pred.argsort()[-3:][::-1]\n",
    "res = [ar[0], ar[1], ar[2]]\n",
    "words_pred = [reverse_word_map[ar[0]], reverse_word_map[ar[1]], reverse_word_map[ar[2]]]"
   ]
  },
  {
   "cell_type": "code",
   "execution_count": 197,
   "id": "55c6153f",
   "metadata": {},
   "outputs": [
    {
     "data": {
      "text/plain": [
       "[6, 1, 9]"
      ]
     },
     "execution_count": 197,
     "metadata": {},
     "output_type": "execute_result"
    }
   ],
   "source": [
    "res"
   ]
  },
  {
   "cell_type": "code",
   "execution_count": 198,
   "id": "9c2d896a",
   "metadata": {},
   "outputs": [
    {
     "data": {
      "text/plain": [
       "['you', 'unktoken', 'it']"
      ]
     },
     "execution_count": 198,
     "metadata": {},
     "output_type": "execute_result"
    }
   ],
   "source": [
    "words_pred"
   ]
  },
  {
   "cell_type": "code",
   "execution_count": null,
   "id": "4beaef60",
   "metadata": {},
   "outputs": [],
   "source": []
  }
 ],
 "metadata": {
  "kernelspec": {
   "display_name": "Python 3 (ipykernel)",
   "language": "python",
   "name": "python3"
  },
  "language_info": {
   "codemirror_mode": {
    "name": "ipython",
    "version": 3
   },
   "file_extension": ".py",
   "mimetype": "text/x-python",
   "name": "python",
   "nbconvert_exporter": "python",
   "pygments_lexer": "ipython3",
   "version": "3.9.12"
  }
 },
 "nbformat": 4,
 "nbformat_minor": 5
}
