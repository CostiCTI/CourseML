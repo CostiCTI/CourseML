{
  "cells": [
    {
      "cell_type": "code",
      "execution_count": 1,
      "id": "cf1a8e96",
      "metadata": {
        "id": "cf1a8e96"
      },
      "outputs": [],
      "source": [
        "import numpy as np\n",
        "import pandas as pd\n",
        "\n",
        "from tensorflow.keras.preprocessing.text import Tokenizer\n",
        "from keras.utils import to_categorical\n",
        "from keras.models import Sequential\n",
        "from keras.layers import Dense\n",
        "from keras.layers import LSTM\n",
        "from keras.layers import Embedding, InputLayer\n",
        "import string"
      ]
    },
    {
      "cell_type": "code",
      "execution_count": 2,
      "id": "a5a64d99",
      "metadata": {
        "id": "a5a64d99"
      },
      "outputs": [],
      "source": [
        "# df = pd.read_csv(\"train.csv\")\n",
        "# len(df)"
      ]
    },
    {
      "cell_type": "code",
      "source": [
        "df = pd.read_csv(\"https://raw.githubusercontent.com/CostiCTI/CourseML/refs/heads/main/Part2-Models/train.csv\")"
      ],
      "metadata": {
        "id": "d3YkogtD1mmK"
      },
      "id": "d3YkogtD1mmK",
      "execution_count": 3,
      "outputs": []
    },
    {
      "cell_type": "code",
      "execution_count": 4,
      "id": "a525494b",
      "metadata": {
        "id": "a525494b"
      },
      "outputs": [],
      "source": [
        "data = list(df['text'])"
      ]
    },
    {
      "cell_type": "code",
      "source": [
        "data[0]"
      ],
      "metadata": {
        "id": "GxnyVjQh4Khs",
        "outputId": "df8b5967-94b0-4fd2-e6c9-730c180f446d",
        "colab": {
          "base_uri": "https://localhost:8080/",
          "height": 87
        }
      },
      "id": "GxnyVjQh4Khs",
      "execution_count": 5,
      "outputs": [
        {
          "output_type": "execute_result",
          "data": {
            "text/plain": [
              "'acest document mi-a deschis cu adevarat ochii la ceea ce oamenii din afara statelor unite s-au gandit la atacurile din 11 septembrie. acest film a fost construit in mod expert si prezinta acest dezastru ca fiind mai mult decat un atac asupra pamantului american. urmarile acestui dezastru sunt previzionate din multe tari si perspective diferite. cred ca acest film ar trebui sa fie mai bine distribuit pentru acest punct. de asemenea, el ajuta in procesul de vindecare sa vada in cele din urma altceva decat stirile despre atacurile teroriste. si unele dintre piese sunt de fapt amuzante, dar nu abuziv asa. acest film a fost extrem de recomandat pentru mine, si am trecut pe acelasi sentiment.'"
            ],
            "application/vnd.google.colaboratory.intrinsic+json": {
              "type": "string"
            }
          },
          "metadata": {},
          "execution_count": 5
        }
      ]
    },
    {
      "cell_type": "code",
      "execution_count": 6,
      "id": "f8937d1f",
      "metadata": {
        "id": "f8937d1f"
      },
      "outputs": [],
      "source": [
        "def generate_subsentences(sentences: list[str]) -> list[str]:\n",
        "    result = []\n",
        "    translator = str.maketrans(string.punctuation, ' ' * len(string.punctuation))\n",
        "    for sentence in sentences:\n",
        "        try:\n",
        "            clean_sentence = sentence.translate(translator)\n",
        "            words = clean_sentence.split()\n",
        "            for length in range(2, 5):\n",
        "                for start in range(len(words) - length + 1):\n",
        "                    subsentence = ' '.join(words[start:start + length])\n",
        "                    result.append(subsentence)\n",
        "            result.append(\"<start>\" + \" \" + sentence.split(\" \")[0])\n",
        "        except:\n",
        "            pass\n",
        "    return result\n",
        "\n",
        "#sentences = [\"the cat sat on the table\", \"i like it\"]\n",
        "#print(generate_subsentences(sentences))"
      ]
    },
    {
      "cell_type": "code",
      "execution_count": 7,
      "id": "559c5049",
      "metadata": {
        "id": "559c5049",
        "outputId": "27d45f07-dbca-4099-d576-b904e5c2e69d",
        "colab": {
          "base_uri": "https://localhost:8080/"
        }
      },
      "outputs": [
        {
          "output_type": "stream",
          "name": "stdout",
          "text": [
            "4090603\n"
          ]
        }
      ],
      "source": [
        "props = generate_subsentences(data)\n",
        "print (len(props))"
      ]
    },
    {
      "cell_type": "code",
      "execution_count": 8,
      "id": "9d7dfc4b",
      "metadata": {
        "id": "9d7dfc4b"
      },
      "outputs": [],
      "source": [
        "import random\n",
        "\n",
        "random.shuffle(props)"
      ]
    },
    {
      "cell_type": "code",
      "execution_count": 9,
      "id": "7050524f",
      "metadata": {
        "id": "7050524f",
        "outputId": "bf5c7d4f-e81c-4a91-826e-1353f89e513d",
        "colab": {
          "base_uri": "https://localhost:8080/",
          "height": 35
        }
      },
      "outputs": [
        {
          "output_type": "execute_result",
          "data": {
            "text/plain": [
              "'de productie'"
            ],
            "application/vnd.google.colaboratory.intrinsic+json": {
              "type": "string"
            }
          },
          "metadata": {},
          "execution_count": 9
        }
      ],
      "source": [
        "props[0]"
      ]
    },
    {
      "cell_type": "code",
      "execution_count": 10,
      "id": "68772c72",
      "metadata": {
        "id": "68772c72",
        "outputId": "b1047724-fcd0-443d-9241-a5266247dd80",
        "colab": {
          "base_uri": "https://localhost:8080/"
        }
      },
      "outputs": [
        {
          "output_type": "stream",
          "name": "stdout",
          "text": [
            "500000\n"
          ]
        }
      ],
      "source": [
        "props = props[:500000]\n",
        "print (len(props))"
      ]
    },
    {
      "cell_type": "code",
      "source": [
        "NO_WORDS = 2000"
      ],
      "metadata": {
        "id": "fut5ou0gEswL"
      },
      "id": "fut5ou0gEswL",
      "execution_count": 11,
      "outputs": []
    },
    {
      "cell_type": "code",
      "execution_count": 12,
      "id": "d08d3b13",
      "metadata": {
        "id": "d08d3b13"
      },
      "outputs": [],
      "source": [
        "tokenizer = Tokenizer(num_words=NO_WORDS, oov_token='unktoken')\n",
        "tokenizer.fit_on_texts(props)"
      ]
    },
    {
      "cell_type": "code",
      "execution_count": 13,
      "id": "10bf318c",
      "metadata": {
        "id": "10bf318c",
        "outputId": "cecb5d77-3f06-4910-8a61-07b1af53e423",
        "colab": {
          "base_uri": "https://localhost:8080/"
        }
      },
      "outputs": [
        {
          "output_type": "execute_result",
          "data": {
            "text/plain": [
              "43834"
            ]
          },
          "metadata": {},
          "execution_count": 13
        }
      ],
      "source": [
        "len(tokenizer.index_word)"
      ]
    },
    {
      "cell_type": "code",
      "execution_count": 14,
      "id": "9b4fe366",
      "metadata": {
        "id": "9b4fe366",
        "outputId": "6d1de790-9245-4640-bd04-a0e4cd0f57e5",
        "colab": {
          "base_uri": "https://localhost:8080/",
          "height": 35
        }
      },
      "outputs": [
        {
          "output_type": "execute_result",
          "data": {
            "text/plain": [
              "'unktoken'"
            ],
            "application/vnd.google.colaboratory.intrinsic+json": {
              "type": "string"
            }
          },
          "metadata": {},
          "execution_count": 14
        }
      ],
      "source": [
        "tokenizer.index_word[1]"
      ]
    },
    {
      "cell_type": "code",
      "source": [
        "#tokenizer.index_word"
      ],
      "metadata": {
        "id": "ljhkf3U7E1nk"
      },
      "id": "ljhkf3U7E1nk",
      "execution_count": 16,
      "outputs": []
    },
    {
      "cell_type": "code",
      "execution_count": 17,
      "id": "390a6b5e",
      "metadata": {
        "id": "390a6b5e",
        "outputId": "193d7e54-d339-455c-ee35-6a7cef8bf555",
        "colab": {
          "base_uri": "https://localhost:8080/"
        }
      },
      "outputs": [
        {
          "output_type": "stream",
          "name": "stdout",
          "text": [
            "2000\n"
          ]
        }
      ],
      "source": [
        "oftenit = []\n",
        "for k, v in tokenizer.index_word.items():\n",
        "    if k <= NO_WORDS:\n",
        "        oftenit.append(v)\n",
        "print (len(oftenit))"
      ]
    },
    {
      "cell_type": "code",
      "execution_count": 18,
      "id": "3e7ff849",
      "metadata": {
        "id": "3e7ff849",
        "outputId": "91b56c9b-54e3-437b-d8f3-ca75ef236f7d",
        "colab": {
          "base_uri": "https://localhost:8080/"
        }
      },
      "outputs": [
        {
          "output_type": "execute_result",
          "data": {
            "text/plain": [
              "2000"
            ]
          },
          "metadata": {},
          "execution_count": 18
        }
      ],
      "source": [
        "len(oftenit)"
      ]
    },
    {
      "cell_type": "code",
      "execution_count": 19,
      "id": "f052233a",
      "metadata": {
        "id": "f052233a"
      },
      "outputs": [],
      "source": [
        "#tokenizer.index_word"
      ]
    },
    {
      "cell_type": "code",
      "execution_count": 20,
      "id": "9c3c42e0",
      "metadata": {
        "id": "9c3c42e0",
        "outputId": "67300362-5be2-45f5-dbca-41f9fb71a5ee",
        "colab": {
          "base_uri": "https://localhost:8080/",
          "height": 35
        }
      },
      "outputs": [
        {
          "output_type": "execute_result",
          "data": {
            "text/plain": [
              "'ca un individ'"
            ],
            "application/vnd.google.colaboratory.intrinsic+json": {
              "type": "string"
            }
          },
          "metadata": {},
          "execution_count": 20
        }
      ],
      "source": [
        "props[10]"
      ]
    },
    {
      "cell_type": "code",
      "execution_count": 21,
      "id": "fa6e5c30",
      "metadata": {
        "id": "fa6e5c30"
      },
      "outputs": [],
      "source": [
        "sequences = tokenizer.texts_to_sequences(props)"
      ]
    },
    {
      "cell_type": "code",
      "execution_count": 22,
      "id": "7b73a200",
      "metadata": {
        "id": "7b73a200",
        "outputId": "a5d7dd8d-7cd3-43ed-a947-1e9506775d58",
        "colab": {
          "base_uri": "https://localhost:8080/"
        }
      },
      "outputs": [
        {
          "output_type": "execute_result",
          "data": {
            "text/plain": [
              "[9, 11, 1]"
            ]
          },
          "metadata": {},
          "execution_count": 22
        }
      ],
      "source": [
        "sequences[10]"
      ]
    },
    {
      "cell_type": "code",
      "execution_count": 23,
      "id": "04391762",
      "metadata": {
        "id": "04391762",
        "outputId": "6c587a52-6161-432b-eb88-11da421bfbce",
        "colab": {
          "base_uri": "https://localhost:8080/"
        }
      },
      "outputs": [
        {
          "output_type": "execute_result",
          "data": {
            "text/plain": [
              "[4, 21, 9, 10]"
            ]
          },
          "metadata": {},
          "execution_count": 23
        }
      ],
      "source": [
        "sequences[124]"
      ]
    },
    {
      "cell_type": "code",
      "execution_count": 30,
      "id": "24b5fedf",
      "metadata": {
        "id": "24b5fedf",
        "outputId": "e67134ca-1ea5-495e-c8c9-a6b0de59e8b9",
        "colab": {
          "base_uri": "https://localhost:8080/"
        }
      },
      "outputs": [
        {
          "output_type": "stream",
          "name": "stdout",
          "text": [
            "410561\n"
          ]
        }
      ],
      "source": [
        "xsequences = []\n",
        "for seq in sequences:\n",
        "    if len(seq) > 4 or seq[-1] == 1:\n",
        "        pass\n",
        "    else:\n",
        "        xsequences.append(seq)\n",
        "print (len(xsequences))"
      ]
    },
    {
      "cell_type": "code",
      "execution_count": 31,
      "id": "b714d14c",
      "metadata": {
        "id": "b714d14c"
      },
      "outputs": [],
      "source": [
        "from tensorflow.keras.preprocessing.sequence import pad_sequences\n",
        "import tensorflow as tf\n",
        "\n",
        "padded = pad_sequences(xsequences, padding='pre')"
      ]
    },
    {
      "cell_type": "code",
      "execution_count": 32,
      "id": "a5071eb4",
      "metadata": {
        "id": "a5071eb4",
        "outputId": "e0d05086-2024-4235-9df7-e752eb8f7108",
        "colab": {
          "base_uri": "https://localhost:8080/"
        }
      },
      "outputs": [
        {
          "output_type": "execute_result",
          "data": {
            "text/plain": [
              "array([  9, 351, 163,   7], dtype=int32)"
            ]
          },
          "metadata": {},
          "execution_count": 32
        }
      ],
      "source": [
        "padded[124]"
      ]
    },
    {
      "cell_type": "code",
      "execution_count": 33,
      "id": "254cede6",
      "metadata": {
        "id": "254cede6",
        "outputId": "46ed8b23-b425-4cdb-97ab-337f9d526706",
        "colab": {
          "base_uri": "https://localhost:8080/"
        }
      },
      "outputs": [
        {
          "output_type": "stream",
          "name": "stdout",
          "text": [
            "[  1 116  29 715]\n",
            "[ 0 31  1  6]\n",
            "[  9 351 163   7]\n"
          ]
        }
      ],
      "source": [
        "print (padded[32])\n",
        "print (padded[100])\n",
        "print (padded[124])"
      ]
    },
    {
      "cell_type": "code",
      "execution_count": 34,
      "id": "13766af9",
      "metadata": {
        "id": "13766af9",
        "outputId": "1e1cde3f-8295-432d-f727-0b0608f66196",
        "colab": {
          "base_uri": "https://localhost:8080/"
        }
      },
      "outputs": [
        {
          "output_type": "execute_result",
          "data": {
            "text/plain": [
              "410561"
            ]
          },
          "metadata": {},
          "execution_count": 34
        }
      ],
      "source": [
        "len(padded)"
      ]
    },
    {
      "cell_type": "code",
      "execution_count": 35,
      "id": "847fce8d",
      "metadata": {
        "id": "847fce8d"
      },
      "outputs": [],
      "source": [
        "X, y = padded[:,:-1], padded[:,-1]\n",
        "y = to_categorical(y, num_classes=NO_WORDS + 1)"
      ]
    },
    {
      "cell_type": "code",
      "execution_count": 36,
      "id": "309ddac7",
      "metadata": {
        "id": "309ddac7",
        "outputId": "ff426ab9-c84a-460b-fa15-63a7a1d31202",
        "colab": {
          "base_uri": "https://localhost:8080/"
        }
      },
      "outputs": [
        {
          "output_type": "stream",
          "name": "stdout",
          "text": [
            "(350000, 3)\n",
            "(350000, 2001)\n",
            "(60561, 3)\n",
            "(60561, 2001)\n"
          ]
        }
      ],
      "source": [
        "from sklearn.model_selection import train_test_split\n",
        "X_train = X[:350000]\n",
        "X_test = X[350000:]\n",
        "y_train = y[:350000]\n",
        "y_test = y[350000:]\n",
        "print (X_train.shape)\n",
        "print (y_train.shape)\n",
        "print (X_test.shape)\n",
        "print (y_test.shape)"
      ]
    },
    {
      "cell_type": "code",
      "execution_count": 37,
      "id": "285633a7",
      "metadata": {
        "id": "285633a7"
      },
      "outputs": [],
      "source": [
        "def top_3_accuracy(y_true, y_pred):\n",
        "    y_true = tf.cast(tf.argmax(y_true, axis=-1), tf.int32)  # Convert one-hot to integer labels\n",
        "    top_3 = tf.math.top_k(y_pred, k=3).indices\n",
        "    matches = tf.reduce_any(tf.equal(tf.expand_dims(y_true, -1), top_3), axis=-1)\n",
        "    return tf.reduce_mean(tf.cast(matches, tf.float32))"
      ]
    },
    {
      "cell_type": "code",
      "execution_count": 39,
      "id": "c6d6c9e8",
      "metadata": {
        "id": "c6d6c9e8",
        "outputId": "ad049385-6a5e-4a09-f172-6e07906d7f51",
        "colab": {
          "base_uri": "https://localhost:8080/",
          "height": 255
        }
      },
      "outputs": [
        {
          "output_type": "display_data",
          "data": {
            "text/plain": [
              "\u001b[1mModel: \"sequential_1\"\u001b[0m\n"
            ],
            "text/html": [
              "<pre style=\"white-space:pre;overflow-x:auto;line-height:normal;font-family:Menlo,'DejaVu Sans Mono',consolas,'Courier New',monospace\"><span style=\"font-weight: bold\">Model: \"sequential_1\"</span>\n",
              "</pre>\n"
            ]
          },
          "metadata": {}
        },
        {
          "output_type": "display_data",
          "data": {
            "text/plain": [
              "┏━━━━━━━━━━━━━━━━━━━━━━━━━━━━━━━━━━━━━━┳━━━━━━━━━━━━━━━━━━━━━━━━━━━━━┳━━━━━━━━━━━━━━━━━┓\n",
              "┃\u001b[1m \u001b[0m\u001b[1mLayer (type)                        \u001b[0m\u001b[1m \u001b[0m┃\u001b[1m \u001b[0m\u001b[1mOutput Shape               \u001b[0m\u001b[1m \u001b[0m┃\u001b[1m \u001b[0m\u001b[1m        Param #\u001b[0m\u001b[1m \u001b[0m┃\n",
              "┡━━━━━━━━━━━━━━━━━━━━━━━━━━━━━━━━━━━━━━╇━━━━━━━━━━━━━━━━━━━━━━━━━━━━━╇━━━━━━━━━━━━━━━━━┩\n",
              "│ embedding_1 (\u001b[38;5;33mEmbedding\u001b[0m)              │ (\u001b[38;5;45mNone\u001b[0m, \u001b[38;5;34m3\u001b[0m, \u001b[38;5;34m8\u001b[0m)                │          \u001b[38;5;34m16,008\u001b[0m │\n",
              "├──────────────────────────────────────┼─────────────────────────────┼─────────────────┤\n",
              "│ lstm_1 (\u001b[38;5;33mLSTM\u001b[0m)                        │ (\u001b[38;5;45mNone\u001b[0m, \u001b[38;5;34m8\u001b[0m)                   │             \u001b[38;5;34m544\u001b[0m │\n",
              "├──────────────────────────────────────┼─────────────────────────────┼─────────────────┤\n",
              "│ dense_1 (\u001b[38;5;33mDense\u001b[0m)                      │ (\u001b[38;5;45mNone\u001b[0m, \u001b[38;5;34m2001\u001b[0m)                │          \u001b[38;5;34m18,009\u001b[0m │\n",
              "└──────────────────────────────────────┴─────────────────────────────┴─────────────────┘\n"
            ],
            "text/html": [
              "<pre style=\"white-space:pre;overflow-x:auto;line-height:normal;font-family:Menlo,'DejaVu Sans Mono',consolas,'Courier New',monospace\">┏━━━━━━━━━━━━━━━━━━━━━━━━━━━━━━━━━━━━━━┳━━━━━━━━━━━━━━━━━━━━━━━━━━━━━┳━━━━━━━━━━━━━━━━━┓\n",
              "┃<span style=\"font-weight: bold\"> Layer (type)                         </span>┃<span style=\"font-weight: bold\"> Output Shape                </span>┃<span style=\"font-weight: bold\">         Param # </span>┃\n",
              "┡━━━━━━━━━━━━━━━━━━━━━━━━━━━━━━━━━━━━━━╇━━━━━━━━━━━━━━━━━━━━━━━━━━━━━╇━━━━━━━━━━━━━━━━━┩\n",
              "│ embedding_1 (<span style=\"color: #0087ff; text-decoration-color: #0087ff\">Embedding</span>)              │ (<span style=\"color: #00d7ff; text-decoration-color: #00d7ff\">None</span>, <span style=\"color: #00af00; text-decoration-color: #00af00\">3</span>, <span style=\"color: #00af00; text-decoration-color: #00af00\">8</span>)                │          <span style=\"color: #00af00; text-decoration-color: #00af00\">16,008</span> │\n",
              "├──────────────────────────────────────┼─────────────────────────────┼─────────────────┤\n",
              "│ lstm_1 (<span style=\"color: #0087ff; text-decoration-color: #0087ff\">LSTM</span>)                        │ (<span style=\"color: #00d7ff; text-decoration-color: #00d7ff\">None</span>, <span style=\"color: #00af00; text-decoration-color: #00af00\">8</span>)                   │             <span style=\"color: #00af00; text-decoration-color: #00af00\">544</span> │\n",
              "├──────────────────────────────────────┼─────────────────────────────┼─────────────────┤\n",
              "│ dense_1 (<span style=\"color: #0087ff; text-decoration-color: #0087ff\">Dense</span>)                      │ (<span style=\"color: #00d7ff; text-decoration-color: #00d7ff\">None</span>, <span style=\"color: #00af00; text-decoration-color: #00af00\">2001</span>)                │          <span style=\"color: #00af00; text-decoration-color: #00af00\">18,009</span> │\n",
              "└──────────────────────────────────────┴─────────────────────────────┴─────────────────┘\n",
              "</pre>\n"
            ]
          },
          "metadata": {}
        },
        {
          "output_type": "display_data",
          "data": {
            "text/plain": [
              "\u001b[1m Total params: \u001b[0m\u001b[38;5;34m34,561\u001b[0m (135.00 KB)\n"
            ],
            "text/html": [
              "<pre style=\"white-space:pre;overflow-x:auto;line-height:normal;font-family:Menlo,'DejaVu Sans Mono',consolas,'Courier New',monospace\"><span style=\"font-weight: bold\"> Total params: </span><span style=\"color: #00af00; text-decoration-color: #00af00\">34,561</span> (135.00 KB)\n",
              "</pre>\n"
            ]
          },
          "metadata": {}
        },
        {
          "output_type": "display_data",
          "data": {
            "text/plain": [
              "\u001b[1m Trainable params: \u001b[0m\u001b[38;5;34m34,561\u001b[0m (135.00 KB)\n"
            ],
            "text/html": [
              "<pre style=\"white-space:pre;overflow-x:auto;line-height:normal;font-family:Menlo,'DejaVu Sans Mono',consolas,'Courier New',monospace\"><span style=\"font-weight: bold\"> Trainable params: </span><span style=\"color: #00af00; text-decoration-color: #00af00\">34,561</span> (135.00 KB)\n",
              "</pre>\n"
            ]
          },
          "metadata": {}
        },
        {
          "output_type": "display_data",
          "data": {
            "text/plain": [
              "\u001b[1m Non-trainable params: \u001b[0m\u001b[38;5;34m0\u001b[0m (0.00 B)\n"
            ],
            "text/html": [
              "<pre style=\"white-space:pre;overflow-x:auto;line-height:normal;font-family:Menlo,'DejaVu Sans Mono',consolas,'Courier New',monospace\"><span style=\"font-weight: bold\"> Non-trainable params: </span><span style=\"color: #00af00; text-decoration-color: #00af00\">0</span> (0.00 B)\n",
              "</pre>\n"
            ]
          },
          "metadata": {}
        },
        {
          "output_type": "stream",
          "name": "stdout",
          "text": [
            "None\n"
          ]
        }
      ],
      "source": [
        "model = Sequential()\n",
        "model.add(InputLayer(input_shape=(3, ), dtype=np.int32))\n",
        "model.add(Embedding(NO_WORDS + 1, 8, input_length=4))\n",
        "model.add(LSTM(8))\n",
        "model.add(Dense(NO_WORDS + 1, activation='softmax'))\n",
        "print(model.summary())"
      ]
    },
    {
      "cell_type": "code",
      "execution_count": 40,
      "id": "fb09ba09",
      "metadata": {
        "id": "fb09ba09"
      },
      "outputs": [],
      "source": [
        "model.compile(loss='categorical_crossentropy', optimizer='adam', metrics=['accuracy', top_3_accuracy])"
      ]
    },
    {
      "cell_type": "code",
      "execution_count": 41,
      "id": "f11cd06d",
      "metadata": {
        "scrolled": true,
        "id": "f11cd06d",
        "outputId": "0abe7a51-0bbc-447b-89ab-642102312297",
        "colab": {
          "base_uri": "https://localhost:8080/"
        }
      },
      "outputs": [
        {
          "output_type": "stream",
          "name": "stdout",
          "text": [
            "Epoch 1/4\n",
            "\u001b[1m21875/21875\u001b[0m \u001b[32m━━━━━━━━━━━━━━━━━━━━\u001b[0m\u001b[37m\u001b[0m \u001b[1m80s\u001b[0m 4ms/step - accuracy: 0.0551 - loss: 5.8795 - top_3_accuracy: 0.1230 - val_accuracy: 0.0911 - val_loss: 5.4227 - val_top_3_accuracy: 0.1934\n",
            "Epoch 2/4\n",
            "\u001b[1m21875/21875\u001b[0m \u001b[32m━━━━━━━━━━━━━━━━━━━━\u001b[0m\u001b[37m\u001b[0m \u001b[1m78s\u001b[0m 3ms/step - accuracy: 0.1040 - loss: 5.3442 - top_3_accuracy: 0.2059 - val_accuracy: 0.1393 - val_loss: 5.1494 - val_top_3_accuracy: 0.2380\n",
            "Epoch 3/4\n",
            "\u001b[1m21875/21875\u001b[0m \u001b[32m━━━━━━━━━━━━━━━━━━━━\u001b[0m\u001b[37m\u001b[0m \u001b[1m82s\u001b[0m 3ms/step - accuracy: 0.1425 - loss: 5.0832 - top_3_accuracy: 0.2433 - val_accuracy: 0.1530 - val_loss: 5.0072 - val_top_3_accuracy: 0.2518\n",
            "Epoch 4/4\n",
            "\u001b[1m21875/21875\u001b[0m \u001b[32m━━━━━━━━━━━━━━━━━━━━\u001b[0m\u001b[37m\u001b[0m \u001b[1m86s\u001b[0m 4ms/step - accuracy: 0.1552 - loss: 4.9483 - top_3_accuracy: 0.2573 - val_accuracy: 0.1575 - val_loss: 4.9321 - val_top_3_accuracy: 0.2633\n"
          ]
        },
        {
          "output_type": "execute_result",
          "data": {
            "text/plain": [
              "<keras.src.callbacks.history.History at 0x7bb5c0c0f2d0>"
            ]
          },
          "metadata": {},
          "execution_count": 41
        }
      ],
      "source": [
        "model.fit(X_train, y_train, batch_size=16, epochs=4, validation_data=(X_test, y_test))"
      ]
    },
    {
      "cell_type": "code",
      "execution_count": 42,
      "id": "1fd2583b",
      "metadata": {
        "id": "1fd2583b",
        "outputId": "4423970e-2d89-4b73-9cfa-0e253f0e7b18",
        "colab": {
          "base_uri": "https://localhost:8080/"
        }
      },
      "outputs": [
        {
          "output_type": "stream",
          "name": "stdout",
          "text": [
            "\u001b[1m1893/1893\u001b[0m \u001b[32m━━━━━━━━━━━━━━━━━━━━\u001b[0m\u001b[37m\u001b[0m \u001b[1m3s\u001b[0m 1ms/step\n"
          ]
        }
      ],
      "source": [
        "preds = model.predict(X_test)"
      ]
    },
    {
      "cell_type": "code",
      "execution_count": 45,
      "id": "4b4035e9",
      "metadata": {
        "id": "4b4035e9"
      },
      "outputs": [],
      "source": [
        "reverse_word_map = dict(map(reversed, tokenizer.word_index.items()))\n",
        "results = []\n",
        "wordsr = []\n",
        "for pred in preds:\n",
        "    ar = pred.argsort()[-3:][::-1]\n",
        "    results.append([ar[0], ar[1], ar[2]])\n",
        "    wordsr.append([reverse_word_map[ar[0]], reverse_word_map[ar[1]], reverse_word_map[ar[2]]])"
      ]
    },
    {
      "cell_type": "code",
      "execution_count": 46,
      "id": "c9062c0e",
      "metadata": {
        "id": "c9062c0e"
      },
      "outputs": [],
      "source": [
        "testy = [np.argmax(x) for x in y_test]"
      ]
    },
    {
      "cell_type": "code",
      "execution_count": 47,
      "id": "1ab4bca7",
      "metadata": {
        "id": "1ab4bca7",
        "outputId": "4b6423a6-e471-4a66-a678-521d9785a6f7",
        "colab": {
          "base_uri": "https://localhost:8080/"
        }
      },
      "outputs": [
        {
          "output_type": "execute_result",
          "data": {
            "text/plain": [
              "60561"
            ]
          },
          "metadata": {},
          "execution_count": 47
        }
      ],
      "source": [
        "len(testy)"
      ]
    },
    {
      "cell_type": "code",
      "execution_count": 48,
      "id": "ef3c90bb",
      "metadata": {
        "id": "ef3c90bb",
        "outputId": "a4ac6880-b773-4392-dc70-a7b5ae589346",
        "colab": {
          "base_uri": "https://localhost:8080/"
        }
      },
      "outputs": [
        {
          "output_type": "stream",
          "name": "stdout",
          "text": [
            "R1: 0.15746107230726045\n",
            "R2: 0.2236257657568402\n",
            "R3: 0.2633873284787239\n"
          ]
        }
      ],
      "source": [
        "acc1 = 0\n",
        "acc2 = 0\n",
        "acc3 = 0\n",
        "for i in range(len(results)):\n",
        "    if results[i][0] == testy[i]:\n",
        "        acc1 += 1\n",
        "    if testy[i] in results[i][:2]:\n",
        "        acc2 += 1\n",
        "    if testy[i] in results[i][:3]:\n",
        "        acc3 += 1\n",
        "print ('R1:', acc1 / len(testy))\n",
        "print ('R2:', acc2 / len(testy))\n",
        "print ('R3:', acc3 / len(testy))"
      ]
    },
    {
      "cell_type": "code",
      "execution_count": 48,
      "id": "f8b6fc71",
      "metadata": {
        "id": "f8b6fc71"
      },
      "outputs": [],
      "source": []
    },
    {
      "cell_type": "code",
      "execution_count": 49,
      "id": "19afd0d1",
      "metadata": {
        "id": "19afd0d1"
      },
      "outputs": [],
      "source": [
        "aux = \"salut ce faci\"\n",
        "example = \"imi place\""
      ]
    },
    {
      "cell_type": "code",
      "execution_count": 50,
      "id": "a1418eb3",
      "metadata": {
        "id": "a1418eb3",
        "outputId": "01ee678b-90ce-4f97-adde-a655c1a9ceb7",
        "colab": {
          "base_uri": "https://localhost:8080/"
        }
      },
      "outputs": [
        {
          "output_type": "stream",
          "name": "stdout",
          "text": [
            "[[1, 25, 783], [99, 140]]\n"
          ]
        }
      ],
      "source": [
        "example_seq = tokenizer.texts_to_sequences([aux, example])\n",
        "print (example_seq)"
      ]
    },
    {
      "cell_type": "code",
      "execution_count": 51,
      "id": "ba77f548",
      "metadata": {
        "id": "ba77f548",
        "outputId": "15245575-8b07-4833-868f-8e99dc3c3609",
        "colab": {
          "base_uri": "https://localhost:8080/"
        }
      },
      "outputs": [
        {
          "output_type": "stream",
          "name": "stdout",
          "text": [
            "[[  1  25 783]\n",
            " [  0  99 140]]\n"
          ]
        }
      ],
      "source": [
        "example_padded = pad_sequences(example_seq, padding='pre')\n",
        "print (example_padded)"
      ]
    },
    {
      "cell_type": "code",
      "execution_count": 52,
      "id": "2d3fc237",
      "metadata": {
        "id": "2d3fc237",
        "outputId": "e7a95c80-b33f-4e96-b596-91b458bdb862",
        "colab": {
          "base_uri": "https://localhost:8080/"
        }
      },
      "outputs": [
        {
          "output_type": "stream",
          "name": "stdout",
          "text": [
            "\u001b[1m1/1\u001b[0m \u001b[32m━━━━━━━━━━━━━━━━━━━━\u001b[0m\u001b[37m\u001b[0m \u001b[1m0s\u001b[0m 32ms/step\n"
          ]
        }
      ],
      "source": [
        "pred = model.predict(example_padded)[1]"
      ]
    },
    {
      "cell_type": "code",
      "execution_count": 53,
      "id": "ada1d651",
      "metadata": {
        "id": "ada1d651"
      },
      "outputs": [],
      "source": [
        "ar = pred.argsort()[-3:][::-1]\n",
        "res = [ar[0], ar[1], ar[2]]\n",
        "words_pred = [reverse_word_map[ar[0]], reverse_word_map[ar[1]], reverse_word_map[ar[2]]]"
      ]
    },
    {
      "cell_type": "code",
      "execution_count": 54,
      "id": "55c6153f",
      "metadata": {
        "id": "55c6153f",
        "outputId": "1efefddd-1329-42a9-879d-a56e9299eeb6",
        "colab": {
          "base_uri": "https://localhost:8080/"
        }
      },
      "outputs": [
        {
          "output_type": "execute_result",
          "data": {
            "text/plain": [
              "[7, 20, 5]"
            ]
          },
          "metadata": {},
          "execution_count": 54
        }
      ],
      "source": [
        "res"
      ]
    },
    {
      "cell_type": "code",
      "execution_count": 55,
      "id": "9c2d896a",
      "metadata": {
        "id": "9c2d896a",
        "outputId": "a007d87f-ccf7-4da3-99b4-40fc786c344f",
        "colab": {
          "base_uri": "https://localhost:8080/"
        }
      },
      "outputs": [
        {
          "output_type": "execute_result",
          "data": {
            "text/plain": [
              "['sa', 'acest', 'in']"
            ]
          },
          "metadata": {},
          "execution_count": 55
        }
      ],
      "source": [
        "words_pred"
      ]
    },
    {
      "cell_type": "code",
      "execution_count": null,
      "id": "4beaef60",
      "metadata": {
        "id": "4beaef60"
      },
      "outputs": [],
      "source": []
    },
    {
      "cell_type": "code",
      "execution_count": null,
      "id": "9c35e707",
      "metadata": {
        "id": "9c35e707"
      },
      "outputs": [],
      "source": []
    }
  ],
  "metadata": {
    "kernelspec": {
      "display_name": "Python 3 (ipykernel)",
      "language": "python",
      "name": "python3"
    },
    "language_info": {
      "codemirror_mode": {
        "name": "ipython",
        "version": 3
      },
      "file_extension": ".py",
      "mimetype": "text/x-python",
      "name": "python",
      "nbconvert_exporter": "python",
      "pygments_lexer": "ipython3",
      "version": "3.9.12"
    },
    "colab": {
      "provenance": []
    }
  },
  "nbformat": 4,
  "nbformat_minor": 5
}