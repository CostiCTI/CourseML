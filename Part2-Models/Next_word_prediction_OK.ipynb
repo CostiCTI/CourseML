{
  "cells": [
    {
      "cell_type": "code",
      "execution_count": 1,
      "id": "cf1a8e96",
      "metadata": {
        "id": "cf1a8e96"
      },
      "outputs": [],
      "source": [
        "import numpy as np\n",
        "import pandas as pd\n",
        "\n",
        "from tensorflow.keras.preprocessing.text import Tokenizer\n",
        "from keras.utils import to_categorical\n",
        "from keras.models import Sequential\n",
        "from keras.layers import Dense\n",
        "from keras.layers import LSTM\n",
        "from keras.layers import Embedding, InputLayer\n",
        "import string"
      ]
    },
    {
      "cell_type": "code",
      "source": [
        "pip install keras"
      ],
      "metadata": {
        "id": "nFhWmzQ91w-_",
        "outputId": "3cf8da57-3bad-4db1-9604-4bfaca303c41",
        "colab": {
          "base_uri": "https://localhost:8080/"
        }
      },
      "id": "nFhWmzQ91w-_",
      "execution_count": 2,
      "outputs": [
        {
          "output_type": "stream",
          "name": "stdout",
          "text": [
            "Requirement already satisfied: keras in /usr/local/lib/python3.11/dist-packages (3.5.0)\n",
            "Requirement already satisfied: absl-py in /usr/local/lib/python3.11/dist-packages (from keras) (1.4.0)\n",
            "Requirement already satisfied: numpy in /usr/local/lib/python3.11/dist-packages (from keras) (1.26.4)\n",
            "Requirement already satisfied: rich in /usr/local/lib/python3.11/dist-packages (from keras) (13.9.4)\n",
            "Requirement already satisfied: namex in /usr/local/lib/python3.11/dist-packages (from keras) (0.0.8)\n",
            "Requirement already satisfied: h5py in /usr/local/lib/python3.11/dist-packages (from keras) (3.12.1)\n",
            "Requirement already satisfied: optree in /usr/local/lib/python3.11/dist-packages (from keras) (0.14.0)\n",
            "Requirement already satisfied: ml-dtypes in /usr/local/lib/python3.11/dist-packages (from keras) (0.4.1)\n",
            "Requirement already satisfied: packaging in /usr/local/lib/python3.11/dist-packages (from keras) (24.2)\n",
            "Requirement already satisfied: typing-extensions>=4.5.0 in /usr/local/lib/python3.11/dist-packages (from optree->keras) (4.12.2)\n",
            "Requirement already satisfied: markdown-it-py>=2.2.0 in /usr/local/lib/python3.11/dist-packages (from rich->keras) (3.0.0)\n",
            "Requirement already satisfied: pygments<3.0.0,>=2.13.0 in /usr/local/lib/python3.11/dist-packages (from rich->keras) (2.18.0)\n",
            "Requirement already satisfied: mdurl~=0.1 in /usr/local/lib/python3.11/dist-packages (from markdown-it-py>=2.2.0->rich->keras) (0.1.2)\n"
          ]
        }
      ]
    },
    {
      "cell_type": "code",
      "execution_count": 3,
      "id": "a5a64d99",
      "metadata": {
        "id": "a5a64d99"
      },
      "outputs": [],
      "source": [
        "# df = pd.read_csv(\"train.csv\")\n",
        "# len(df)"
      ]
    },
    {
      "cell_type": "code",
      "source": [
        "df=pd.read_csv(\"https://raw.githubusercontent.com/CostiCTI/CourseML/refs/heads/main/Part2-Models/train.csv\")"
      ],
      "metadata": {
        "id": "d3YkogtD1mmK"
      },
      "id": "d3YkogtD1mmK",
      "execution_count": 2,
      "outputs": []
    },
    {
      "cell_type": "code",
      "execution_count": 3,
      "id": "a525494b",
      "metadata": {
        "id": "a525494b"
      },
      "outputs": [],
      "source": [
        "data = list(df['text'])"
      ]
    },
    {
      "cell_type": "code",
      "source": [],
      "metadata": {
        "id": "GxnyVjQh4Khs"
      },
      "id": "GxnyVjQh4Khs",
      "execution_count": null,
      "outputs": []
    },
    {
      "cell_type": "code",
      "execution_count": 4,
      "id": "f8937d1f",
      "metadata": {
        "id": "f8937d1f"
      },
      "outputs": [],
      "source": [
        "def generate_subsentences(sentences: list[str]) -> list[str]:\n",
        "    result = []\n",
        "    translator = str.maketrans(string.punctuation, ' ' * len(string.punctuation))\n",
        "    for sentence in sentences:\n",
        "        try:\n",
        "            clean_sentence = sentence.translate(translator)\n",
        "            words = clean_sentence.split()\n",
        "            for length in range(2, 5):\n",
        "                for start in range(len(words) - length + 1):\n",
        "                    subsentence = ' '.join(words[start:start + length])\n",
        "                    result.append(subsentence)\n",
        "            result.append(\"<start>\" + \" \" + sentence.split(\" \")[0])\n",
        "        except:\n",
        "            pass\n",
        "    return result\n",
        "\n",
        "#sentences = [\"the cat sat on the table\", \"i like it\"]\n",
        "#print(generate_subsentences(sentences))"
      ]
    },
    {
      "cell_type": "code",
      "execution_count": 5,
      "id": "559c5049",
      "metadata": {
        "id": "559c5049",
        "outputId": "195fca0f-170a-4213-f43e-71b681d0c230",
        "colab": {
          "base_uri": "https://localhost:8080/"
        }
      },
      "outputs": [
        {
          "output_type": "stream",
          "name": "stdout",
          "text": [
            "4090603\n"
          ]
        }
      ],
      "source": [
        "props = generate_subsentences(data)\n",
        "print (len(props))"
      ]
    },
    {
      "cell_type": "code",
      "execution_count": 6,
      "id": "9d7dfc4b",
      "metadata": {
        "id": "9d7dfc4b"
      },
      "outputs": [],
      "source": [
        "import random\n",
        "\n",
        "random.shuffle(props)"
      ]
    },
    {
      "cell_type": "code",
      "execution_count": 7,
      "id": "7050524f",
      "metadata": {
        "id": "7050524f",
        "outputId": "3ba47899-91a9-4e88-c699-4884f211ff63",
        "colab": {
          "base_uri": "https://localhost:8080/",
          "height": 36
        }
      },
      "outputs": [
        {
          "output_type": "execute_result",
          "data": {
            "text/plain": [
              "'chiar il merita scenariul'"
            ],
            "application/vnd.google.colaboratory.intrinsic+json": {
              "type": "string"
            }
          },
          "metadata": {},
          "execution_count": 7
        }
      ],
      "source": [
        "props[0]"
      ]
    },
    {
      "cell_type": "code",
      "execution_count": 8,
      "id": "68772c72",
      "metadata": {
        "id": "68772c72",
        "outputId": "6881cf8e-0e44-4195-ce83-c4a2647d85f7",
        "colab": {
          "base_uri": "https://localhost:8080/"
        }
      },
      "outputs": [
        {
          "output_type": "stream",
          "name": "stdout",
          "text": [
            "500000\n"
          ]
        }
      ],
      "source": [
        "props = props[:500000]\n",
        "print (len(props))"
      ]
    },
    {
      "cell_type": "code",
      "execution_count": 9,
      "id": "d08d3b13",
      "metadata": {
        "id": "d08d3b13"
      },
      "outputs": [],
      "source": [
        "tokenizer = Tokenizer(num_words=3200, oov_token='unktoken')\n",
        "tokenizer.fit_on_texts(props)"
      ]
    },
    {
      "cell_type": "code",
      "execution_count": 10,
      "id": "10bf318c",
      "metadata": {
        "id": "10bf318c",
        "outputId": "dad7c2f9-c13a-46cf-e808-e87a9a983739",
        "colab": {
          "base_uri": "https://localhost:8080/"
        }
      },
      "outputs": [
        {
          "output_type": "execute_result",
          "data": {
            "text/plain": [
              "43703"
            ]
          },
          "metadata": {},
          "execution_count": 10
        }
      ],
      "source": [
        "len(tokenizer.index_word)"
      ]
    },
    {
      "cell_type": "code",
      "execution_count": 11,
      "id": "9b4fe366",
      "metadata": {
        "id": "9b4fe366",
        "outputId": "e5d9b91e-7414-4dd8-d0a9-39b8ebf6db3b",
        "colab": {
          "base_uri": "https://localhost:8080/",
          "height": 36
        }
      },
      "outputs": [
        {
          "output_type": "execute_result",
          "data": {
            "text/plain": [
              "'unktoken'"
            ],
            "application/vnd.google.colaboratory.intrinsic+json": {
              "type": "string"
            }
          },
          "metadata": {},
          "execution_count": 11
        }
      ],
      "source": [
        "tokenizer.index_word[1]"
      ]
    },
    {
      "cell_type": "code",
      "execution_count": 12,
      "id": "0ae5d3e2",
      "metadata": {
        "id": "0ae5d3e2"
      },
      "outputs": [],
      "source": [
        "NO_WORDS = 3200"
      ]
    },
    {
      "cell_type": "code",
      "execution_count": 13,
      "id": "390a6b5e",
      "metadata": {
        "id": "390a6b5e",
        "outputId": "c0580cb9-323e-43ee-8946-43266900b231",
        "colab": {
          "base_uri": "https://localhost:8080/"
        }
      },
      "outputs": [
        {
          "output_type": "stream",
          "name": "stdout",
          "text": [
            "3200\n"
          ]
        }
      ],
      "source": [
        "oftenit = []\n",
        "for k, v in tokenizer.index_word.items():\n",
        "    if k <= NO_WORDS:\n",
        "        oftenit.append(v)\n",
        "print (len(oftenit))"
      ]
    },
    {
      "cell_type": "code",
      "execution_count": 14,
      "id": "3e7ff849",
      "metadata": {
        "id": "3e7ff849",
        "outputId": "a712f42d-ba1e-423c-9084-0800069e5d48",
        "colab": {
          "base_uri": "https://localhost:8080/"
        }
      },
      "outputs": [
        {
          "output_type": "execute_result",
          "data": {
            "text/plain": [
              "3200"
            ]
          },
          "metadata": {},
          "execution_count": 14
        }
      ],
      "source": [
        "len(oftenit)"
      ]
    },
    {
      "cell_type": "code",
      "execution_count": 15,
      "id": "f052233a",
      "metadata": {
        "id": "f052233a"
      },
      "outputs": [],
      "source": [
        "#tokenizer.index_word"
      ]
    },
    {
      "cell_type": "code",
      "execution_count": 15,
      "id": "15dfa7b4",
      "metadata": {
        "id": "15dfa7b4"
      },
      "outputs": [],
      "source": []
    },
    {
      "cell_type": "code",
      "execution_count": 16,
      "id": "9c3c42e0",
      "metadata": {
        "id": "9c3c42e0",
        "outputId": "2576bd8e-f2c7-4f75-ccf7-d5e422dc8b12",
        "colab": {
          "base_uri": "https://localhost:8080/",
          "height": 36
        }
      },
      "outputs": [
        {
          "output_type": "execute_result",
          "data": {
            "text/plain": [
              "'putin eu vreau ceva'"
            ],
            "application/vnd.google.colaboratory.intrinsic+json": {
              "type": "string"
            }
          },
          "metadata": {},
          "execution_count": 16
        }
      ],
      "source": [
        "props[10]"
      ]
    },
    {
      "cell_type": "code",
      "execution_count": 17,
      "id": "fa6e5c30",
      "metadata": {
        "id": "fa6e5c30"
      },
      "outputs": [],
      "source": [
        "sequences = tokenizer.texts_to_sequences(props)"
      ]
    },
    {
      "cell_type": "code",
      "execution_count": 18,
      "id": "7b73a200",
      "metadata": {
        "id": "7b73a200",
        "outputId": "f4b2711b-4ce2-41df-9b90-245ec77b7b30",
        "colab": {
          "base_uri": "https://localhost:8080/"
        }
      },
      "outputs": [
        {
          "output_type": "execute_result",
          "data": {
            "text/plain": [
              "[96, 143, 272, 103]"
            ]
          },
          "metadata": {},
          "execution_count": 18
        }
      ],
      "source": [
        "sequences[10]"
      ]
    },
    {
      "cell_type": "code",
      "execution_count": 19,
      "id": "04391762",
      "metadata": {
        "id": "04391762",
        "outputId": "ac01f2fc-0701-4220-fd4a-798e1463d44d",
        "colab": {
          "base_uri": "https://localhost:8080/"
        }
      },
      "outputs": [
        {
          "output_type": "execute_result",
          "data": {
            "text/plain": [
              "[48, 67, 4]"
            ]
          },
          "metadata": {},
          "execution_count": 19
        }
      ],
      "source": [
        "sequences[124]"
      ]
    },
    {
      "cell_type": "code",
      "execution_count": 20,
      "id": "24b5fedf",
      "metadata": {
        "id": "24b5fedf",
        "outputId": "c2fa2d0f-dc83-4e7c-f030-47f87487ba07",
        "colab": {
          "base_uri": "https://localhost:8080/"
        }
      },
      "outputs": [
        {
          "output_type": "stream",
          "name": "stdout",
          "text": [
            "429731\n"
          ]
        }
      ],
      "source": [
        "xsequences = []\n",
        "for seq in sequences:\n",
        "    if len(seq) > 5 or seq[-1] == 1:\n",
        "        pass\n",
        "    else:\n",
        "        xsequences.append(seq)\n",
        "print (len(xsequences))"
      ]
    },
    {
      "cell_type": "code",
      "execution_count": 21,
      "id": "b714d14c",
      "metadata": {
        "id": "b714d14c"
      },
      "outputs": [],
      "source": [
        "from tensorflow.keras.preprocessing.sequence import pad_sequences\n",
        "import tensorflow as tf\n",
        "\n",
        "padded = pad_sequences(xsequences, padding='pre')"
      ]
    },
    {
      "cell_type": "code",
      "execution_count": 22,
      "id": "a5071eb4",
      "metadata": {
        "id": "a5071eb4",
        "outputId": "b46a03df-f4d1-4b55-c9ab-bada28cc1ebc",
        "colab": {
          "base_uri": "https://localhost:8080/"
        }
      },
      "outputs": [
        {
          "output_type": "execute_result",
          "data": {
            "text/plain": [
              "array([2692,   19,    9,    6], dtype=int32)"
            ]
          },
          "metadata": {},
          "execution_count": 22
        }
      ],
      "source": [
        "padded[124]"
      ]
    },
    {
      "cell_type": "code",
      "execution_count": 23,
      "id": "254cede6",
      "metadata": {
        "id": "254cede6",
        "outputId": "98d7c161-3cb5-44ba-c2dc-6ccb464f904f",
        "colab": {
          "base_uri": "https://localhost:8080/"
        }
      },
      "outputs": [
        {
          "output_type": "stream",
          "name": "stdout",
          "text": [
            "[1462    8  196    2]\n",
            "[  0   0   3 208]\n",
            "[2692   19    9    6]\n"
          ]
        }
      ],
      "source": [
        "print (padded[32])\n",
        "print (padded[100])\n",
        "print (padded[124])"
      ]
    },
    {
      "cell_type": "code",
      "execution_count": 24,
      "id": "13766af9",
      "metadata": {
        "id": "13766af9",
        "outputId": "640a5a9b-0272-40ee-d61d-f40f5b70550b",
        "colab": {
          "base_uri": "https://localhost:8080/"
        }
      },
      "outputs": [
        {
          "output_type": "execute_result",
          "data": {
            "text/plain": [
              "429731"
            ]
          },
          "metadata": {},
          "execution_count": 24
        }
      ],
      "source": [
        "len(padded)"
      ]
    },
    {
      "cell_type": "code",
      "execution_count": 25,
      "id": "847fce8d",
      "metadata": {
        "id": "847fce8d"
      },
      "outputs": [],
      "source": [
        "X, y = padded[:,:-1], padded[:,-1]\n",
        "y = to_categorical(y, num_classes=NO_WORDS + 1)"
      ]
    },
    {
      "cell_type": "code",
      "execution_count": 27,
      "id": "309ddac7",
      "metadata": {
        "id": "309ddac7",
        "outputId": "7dd377d2-dd84-475a-cf52-8d91c4eeecb6",
        "colab": {
          "base_uri": "https://localhost:8080/"
        }
      },
      "outputs": [
        {
          "output_type": "stream",
          "name": "stdout",
          "text": [
            "(350000, 3)\n",
            "(350000, 3201)\n",
            "(79731, 3)\n",
            "(79731, 3201)\n"
          ]
        }
      ],
      "source": [
        "from sklearn.model_selection import train_test_split\n",
        "X_train = X[:350000]\n",
        "X_test = X[350000:]\n",
        "y_train = y[:350000]\n",
        "y_test = y[350000:]\n",
        "print (X_train.shape)\n",
        "print (y_train.shape)\n",
        "print (X_test.shape)\n",
        "print (y_test.shape)"
      ]
    },
    {
      "cell_type": "code",
      "execution_count": 28,
      "id": "285633a7",
      "metadata": {
        "id": "285633a7"
      },
      "outputs": [],
      "source": [
        "def top_3_accuracy(y_true, y_pred):\n",
        "    y_true = tf.cast(tf.argmax(y_true, axis=-1), tf.int32)  # Convert one-hot to integer labels\n",
        "    top_3 = tf.math.top_k(y_pred, k=3).indices\n",
        "    matches = tf.reduce_any(tf.equal(tf.expand_dims(y_true, -1), top_3), axis=-1)\n",
        "    return tf.reduce_mean(tf.cast(matches, tf.float32))"
      ]
    },
    {
      "cell_type": "code",
      "execution_count": 30,
      "id": "c6d6c9e8",
      "metadata": {
        "id": "c6d6c9e8",
        "outputId": "e0c30695-7b5a-4d3f-c415-c19cac4ae054",
        "colab": {
          "base_uri": "https://localhost:8080/",
          "height": 243
        }
      },
      "outputs": [
        {
          "output_type": "display_data",
          "data": {
            "text/plain": [
              "\u001b[1mModel: \"sequential_1\"\u001b[0m\n"
            ],
            "text/html": [
              "<pre style=\"white-space:pre;overflow-x:auto;line-height:normal;font-family:Menlo,'DejaVu Sans Mono',consolas,'Courier New',monospace\"><span style=\"font-weight: bold\">Model: \"sequential_1\"</span>\n",
              "</pre>\n"
            ]
          },
          "metadata": {}
        },
        {
          "output_type": "display_data",
          "data": {
            "text/plain": [
              "┏━━━━━━━━━━━━━━━━━━━━━━━━━━━━━━━━━━━━━━┳━━━━━━━━━━━━━━━━━━━━━━━━━━━━━┳━━━━━━━━━━━━━━━━━┓\n",
              "┃\u001b[1m \u001b[0m\u001b[1mLayer (type)                        \u001b[0m\u001b[1m \u001b[0m┃\u001b[1m \u001b[0m\u001b[1mOutput Shape               \u001b[0m\u001b[1m \u001b[0m┃\u001b[1m \u001b[0m\u001b[1m        Param #\u001b[0m\u001b[1m \u001b[0m┃\n",
              "┡━━━━━━━━━━━━━━━━━━━━━━━━━━━━━━━━━━━━━━╇━━━━━━━━━━━━━━━━━━━━━━━━━━━━━╇━━━━━━━━━━━━━━━━━┩\n",
              "│ embedding_1 (\u001b[38;5;33mEmbedding\u001b[0m)              │ (\u001b[38;5;45mNone\u001b[0m, \u001b[38;5;34m3\u001b[0m, \u001b[38;5;34m16\u001b[0m)               │          \u001b[38;5;34m51,216\u001b[0m │\n",
              "├──────────────────────────────────────┼─────────────────────────────┼─────────────────┤\n",
              "│ lstm_1 (\u001b[38;5;33mLSTM\u001b[0m)                        │ (\u001b[38;5;45mNone\u001b[0m, \u001b[38;5;34m16\u001b[0m)                  │           \u001b[38;5;34m2,112\u001b[0m │\n",
              "├──────────────────────────────────────┼─────────────────────────────┼─────────────────┤\n",
              "│ dense_1 (\u001b[38;5;33mDense\u001b[0m)                      │ (\u001b[38;5;45mNone\u001b[0m, \u001b[38;5;34m3201\u001b[0m)                │          \u001b[38;5;34m54,417\u001b[0m │\n",
              "└──────────────────────────────────────┴─────────────────────────────┴─────────────────┘\n"
            ],
            "text/html": [
              "<pre style=\"white-space:pre;overflow-x:auto;line-height:normal;font-family:Menlo,'DejaVu Sans Mono',consolas,'Courier New',monospace\">┏━━━━━━━━━━━━━━━━━━━━━━━━━━━━━━━━━━━━━━┳━━━━━━━━━━━━━━━━━━━━━━━━━━━━━┳━━━━━━━━━━━━━━━━━┓\n",
              "┃<span style=\"font-weight: bold\"> Layer (type)                         </span>┃<span style=\"font-weight: bold\"> Output Shape                </span>┃<span style=\"font-weight: bold\">         Param # </span>┃\n",
              "┡━━━━━━━━━━━━━━━━━━━━━━━━━━━━━━━━━━━━━━╇━━━━━━━━━━━━━━━━━━━━━━━━━━━━━╇━━━━━━━━━━━━━━━━━┩\n",
              "│ embedding_1 (<span style=\"color: #0087ff; text-decoration-color: #0087ff\">Embedding</span>)              │ (<span style=\"color: #00d7ff; text-decoration-color: #00d7ff\">None</span>, <span style=\"color: #00af00; text-decoration-color: #00af00\">3</span>, <span style=\"color: #00af00; text-decoration-color: #00af00\">16</span>)               │          <span style=\"color: #00af00; text-decoration-color: #00af00\">51,216</span> │\n",
              "├──────────────────────────────────────┼─────────────────────────────┼─────────────────┤\n",
              "│ lstm_1 (<span style=\"color: #0087ff; text-decoration-color: #0087ff\">LSTM</span>)                        │ (<span style=\"color: #00d7ff; text-decoration-color: #00d7ff\">None</span>, <span style=\"color: #00af00; text-decoration-color: #00af00\">16</span>)                  │           <span style=\"color: #00af00; text-decoration-color: #00af00\">2,112</span> │\n",
              "├──────────────────────────────────────┼─────────────────────────────┼─────────────────┤\n",
              "│ dense_1 (<span style=\"color: #0087ff; text-decoration-color: #0087ff\">Dense</span>)                      │ (<span style=\"color: #00d7ff; text-decoration-color: #00d7ff\">None</span>, <span style=\"color: #00af00; text-decoration-color: #00af00\">3201</span>)                │          <span style=\"color: #00af00; text-decoration-color: #00af00\">54,417</span> │\n",
              "└──────────────────────────────────────┴─────────────────────────────┴─────────────────┘\n",
              "</pre>\n"
            ]
          },
          "metadata": {}
        },
        {
          "output_type": "display_data",
          "data": {
            "text/plain": [
              "\u001b[1m Total params: \u001b[0m\u001b[38;5;34m107,745\u001b[0m (420.88 KB)\n"
            ],
            "text/html": [
              "<pre style=\"white-space:pre;overflow-x:auto;line-height:normal;font-family:Menlo,'DejaVu Sans Mono',consolas,'Courier New',monospace\"><span style=\"font-weight: bold\"> Total params: </span><span style=\"color: #00af00; text-decoration-color: #00af00\">107,745</span> (420.88 KB)\n",
              "</pre>\n"
            ]
          },
          "metadata": {}
        },
        {
          "output_type": "display_data",
          "data": {
            "text/plain": [
              "\u001b[1m Trainable params: \u001b[0m\u001b[38;5;34m107,745\u001b[0m (420.88 KB)\n"
            ],
            "text/html": [
              "<pre style=\"white-space:pre;overflow-x:auto;line-height:normal;font-family:Menlo,'DejaVu Sans Mono',consolas,'Courier New',monospace\"><span style=\"font-weight: bold\"> Trainable params: </span><span style=\"color: #00af00; text-decoration-color: #00af00\">107,745</span> (420.88 KB)\n",
              "</pre>\n"
            ]
          },
          "metadata": {}
        },
        {
          "output_type": "display_data",
          "data": {
            "text/plain": [
              "\u001b[1m Non-trainable params: \u001b[0m\u001b[38;5;34m0\u001b[0m (0.00 B)\n"
            ],
            "text/html": [
              "<pre style=\"white-space:pre;overflow-x:auto;line-height:normal;font-family:Menlo,'DejaVu Sans Mono',consolas,'Courier New',monospace\"><span style=\"font-weight: bold\"> Non-trainable params: </span><span style=\"color: #00af00; text-decoration-color: #00af00\">0</span> (0.00 B)\n",
              "</pre>\n"
            ]
          },
          "metadata": {}
        },
        {
          "output_type": "stream",
          "name": "stdout",
          "text": [
            "None\n"
          ]
        }
      ],
      "source": [
        "model = Sequential()\n",
        "model.add(InputLayer(input_shape=(3, ), dtype=np.int32))\n",
        "model.add(Embedding(NO_WORDS + 1, 16, input_length=4))\n",
        "model.add(LSTM(16))\n",
        "model.add(Dense(NO_WORDS + 1, activation='softmax'))\n",
        "print(model.summary())"
      ]
    },
    {
      "cell_type": "code",
      "execution_count": 31,
      "id": "fb09ba09",
      "metadata": {
        "id": "fb09ba09"
      },
      "outputs": [],
      "source": [
        "model.compile(loss='categorical_crossentropy', optimizer='adam', metrics=['accuracy', top_3_accuracy])"
      ]
    },
    {
      "cell_type": "code",
      "execution_count": null,
      "id": "f11cd06d",
      "metadata": {
        "scrolled": true,
        "id": "f11cd06d"
      },
      "outputs": [],
      "source": [
        "model.fit(X_train, y_train, batch_size=32, epochs=4, validation_data=(X_test, y_test))"
      ]
    },
    {
      "cell_type": "code",
      "execution_count": null,
      "id": "1fd2583b",
      "metadata": {
        "id": "1fd2583b"
      },
      "outputs": [],
      "source": [
        "preds = model.predict(X_test)"
      ]
    },
    {
      "cell_type": "code",
      "execution_count": null,
      "id": "4b4035e9",
      "metadata": {
        "id": "4b4035e9"
      },
      "outputs": [],
      "source": [
        "reverse_word_map = dict(map(reversed, tokenizer.word_index.items()))\n",
        "results = []\n",
        "wordsr = []\n",
        "for pred in preds:\n",
        "    ar = pred.argsort()[-5:][::-1]\n",
        "    results.append([ar[0], ar[1], ar[2], ar[3], ar[4]])\n",
        "    wordsr.append([reverse_word_map[ar[0]], reverse_word_map[ar[1]], reverse_word_map[ar[2]], reverse_word_map[ar[3]], reverse_word_map[ar[4]]])"
      ]
    },
    {
      "cell_type": "code",
      "execution_count": null,
      "id": "c9062c0e",
      "metadata": {
        "id": "c9062c0e"
      },
      "outputs": [],
      "source": [
        "testy = [np.argmax(x) for x in y_test]"
      ]
    },
    {
      "cell_type": "code",
      "execution_count": null,
      "id": "1ab4bca7",
      "metadata": {
        "id": "1ab4bca7"
      },
      "outputs": [],
      "source": [
        "len(testy)"
      ]
    },
    {
      "cell_type": "code",
      "execution_count": null,
      "id": "ef3c90bb",
      "metadata": {
        "id": "ef3c90bb"
      },
      "outputs": [],
      "source": [
        "acc1 = 0\n",
        "acc2 = 0\n",
        "acc3 = 0\n",
        "for i in range(len(results)):\n",
        "    if results[i][0] == testy[i]:\n",
        "        acc1 += 1\n",
        "    if testy[i] in results[i][:2]:\n",
        "        acc2 += 1\n",
        "    if testy[i] in results[i][:3]:\n",
        "        acc3 += 1\n",
        "print ('R1:', acc1 / len(testy))\n",
        "print ('R2:', acc2 / len(testy))\n",
        "print ('R3:', acc3 / len(testy))"
      ]
    },
    {
      "cell_type": "code",
      "execution_count": null,
      "id": "f8b6fc71",
      "metadata": {
        "id": "f8b6fc71"
      },
      "outputs": [],
      "source": []
    },
    {
      "cell_type": "code",
      "execution_count": null,
      "id": "19afd0d1",
      "metadata": {
        "id": "19afd0d1"
      },
      "outputs": [],
      "source": [
        "aux = \"salut ce faci in\"\n",
        "example = \"imi place\""
      ]
    },
    {
      "cell_type": "code",
      "execution_count": null,
      "id": "a1418eb3",
      "metadata": {
        "id": "a1418eb3"
      },
      "outputs": [],
      "source": [
        "example_seq = tokenizer.texts_to_sequences([aux, example])\n",
        "print (example_seq)"
      ]
    },
    {
      "cell_type": "code",
      "execution_count": null,
      "id": "ba77f548",
      "metadata": {
        "id": "ba77f548"
      },
      "outputs": [],
      "source": [
        "example_padded = pad_sequences(example_seq, padding='pre')\n",
        "print (example_padded)"
      ]
    },
    {
      "cell_type": "code",
      "execution_count": null,
      "id": "2d3fc237",
      "metadata": {
        "id": "2d3fc237"
      },
      "outputs": [],
      "source": [
        "pred = model.predict(example_padded)[1]"
      ]
    },
    {
      "cell_type": "code",
      "execution_count": null,
      "id": "ada1d651",
      "metadata": {
        "id": "ada1d651"
      },
      "outputs": [],
      "source": [
        "ar = pred.argsort()[-3:][::-1]\n",
        "res = [ar[0], ar[1], ar[2]]\n",
        "words_pred = [reverse_word_map[ar[0]], reverse_word_map[ar[1]], reverse_word_map[ar[2]]]"
      ]
    },
    {
      "cell_type": "code",
      "execution_count": null,
      "id": "55c6153f",
      "metadata": {
        "id": "55c6153f"
      },
      "outputs": [],
      "source": [
        "res"
      ]
    },
    {
      "cell_type": "code",
      "execution_count": null,
      "id": "9c2d896a",
      "metadata": {
        "id": "9c2d896a"
      },
      "outputs": [],
      "source": [
        "words_pred"
      ]
    },
    {
      "cell_type": "code",
      "execution_count": null,
      "id": "4beaef60",
      "metadata": {
        "id": "4beaef60"
      },
      "outputs": [],
      "source": []
    },
    {
      "cell_type": "code",
      "execution_count": null,
      "id": "9c35e707",
      "metadata": {
        "id": "9c35e707"
      },
      "outputs": [],
      "source": []
    }
  ],
  "metadata": {
    "kernelspec": {
      "display_name": "Python 3 (ipykernel)",
      "language": "python",
      "name": "python3"
    },
    "language_info": {
      "codemirror_mode": {
        "name": "ipython",
        "version": 3
      },
      "file_extension": ".py",
      "mimetype": "text/x-python",
      "name": "python",
      "nbconvert_exporter": "python",
      "pygments_lexer": "ipython3",
      "version": "3.9.12"
    },
    "colab": {
      "provenance": []
    }
  },
  "nbformat": 4,
  "nbformat_minor": 5
}